{
  "nbformat": 4,
  "nbformat_minor": 0,
  "metadata": {
    "colab": {
      "name": "NP330_Lab1_19_0.ipynb",
      "version": "0.3.2",
      "provenance": [],
      "collapsed_sections": [
        "4nBtFk6WeZD4",
        "vLnYW_9QeZFi",
        "thzLzFfoeZF9"
      ],
      "include_colab_link": true
    },
    "kernelspec": {
      "display_name": "Python 3",
      "language": "python",
      "name": "python3"
    }
  },
  "cells": [
    {
      "cell_type": "markdown",
      "metadata": {
        "id": "view-in-github",
        "colab_type": "text"
      },
      "source": [
        "<a href=\"https://colab.research.google.com/github/NP330/organization/blob/master/NP330_Lab1_19_0.ipynb\" target=\"_parent\"><img src=\"https://colab.research.google.com/assets/colab-badge.svg\" alt=\"Open In Colab\"/></a>"
      ]
    },
    {
      "metadata": {
        "id": "TGHUfw88eZDR",
        "colab_type": "text"
      },
      "cell_type": "markdown",
      "source": [
        "# NeuPsy330 \n",
        "\n",
        "## Labs Overview\n",
        "Labs for NeuPsy330 will focus on understanding computational models of human cognition by running and modifying working models along with constructing new models that solve interesting challenges.  The format for labs is fairly consistent:  1) We'll start with some useful background information (about human cognition, programming tools, and sometimes a review of relevant math);  2) Then we'll introduce a working model of a cognitive ability or process, break it down into the computational components, and; 3) Gain a deeper understanding by modifying those components and building new functionality out of the components.  Each lab progresses from highly structured instruction to increasingly open-ended problem solving, often working in teams.  The goal is for you to gain hands-on experience tinkering with real models and developing the conceptual understanding and technical skills to begin building your own models.  \n",
        "\n",
        "### Background & Software\n",
        "Labs will use the programming language Python with a cognitive neuroscience modeling environment called PsyNeuLink.  No previous programming experience is required to join the course, but if you are new to programming or unfamiliar with Python then you must plan to intensively familiarize yourself with coding in Python during the first few weeks of the course.  Some links to resources are provided below.  We also encourage you to go beyond the course materials and find online resources that help you learn, such as [Stack Overflow](https://stackoverflow.com/)  \n",
        "\n",
        "The document you are currently reading is a Jupyter Notebook that combines word processing with executable code.  The file is segmented into cells, and with the menu above (right below \"Widgets\") you can designate prose cells as Markdown for writing text, and code cells as Code.  When you select a cell and hit the Play button above it will format Markdown cells into text or execute the code in Code cells.  Double click on this cell now to see what a Markdown cell looks like before formatting.  You'll see number signs / hashtags / # at the start of a line are used to designate headings and various subheadings.  When you submit labwork and homework assignments they should be formatted like this document, using Markdown cells for text and Code cells for code.                         \n",
        "\n",
        "#### Python Resources\n",
        "\n",
        "[5 minute primer on Python](https://www.udacity.com/learn/python)  \n",
        "[Free Intro to Python course](https://www.udacity.com/course/introduction-to-python--ud1110)  \n",
        "[Free Intro to Programming course, using Python](https://www.udacity.com/course/programming-foundations-with-python--ud036)  \n",
        "\n",
        "\n",
        "#### PsyNeuLink Documentation\n",
        "\n",
        "[PsyNeuLink Documentation](https://princetonuniversity.github.io/PsyNeuLink/)\n",
        "\n",
        "\n",
        "## Lab 1\n",
        "\n",
        "In today's lab we will start with some of the basics for using PsyNeuLink.  The following section is an edited version of the tutorial that comes with the PsyNeuLink ...  "
      ]
    },
    {
      "metadata": {
        "id": "xEEJTfsceZDS",
        "colab_type": "text"
      },
      "cell_type": "markdown",
      "source": [
        "# PsyNeuLink Tutorial\n",
        "\n",
        "PsyNeuLink is an integrated language and toolkit for creating cognitive models.  It makes cognitive modeling more accessible to beginners and easier to use for experts by providing standard building blocks (Drift Diffusion Models, Neural Nets, etc.) and the means to connect them together in a single environment. PsyNeuLink is designed to make the user think about computation in a \"mind/brain-like\" way while imposing minimal constraint on the type of models that can be implemented.\n",
        "\n",
        "PsyNeuLink is a declarative, object-oriented language.  This means that you specify what you want to build, not how you want to build it -- PsyNeuLink uses smart defaults to automatically construct all the working components and their connections.  Afterward, if you want to modify and customize the components and connections there are a variety of options (with more being added every week).  Declarative object-oriented programming can be contrasted with procedural programming, where you specify every detail of how to build what you want to build.  A big part of learning to use PsyNeuLink is becoming familiar with all the pre-packaged functionality and smart defaults.  And perhaps the best way to get familiar is tinkering with working models and reading through the supporting documentation.             "
      ]
    },
    {
      "metadata": {
        "id": "edzXCbxzeZDU",
        "colab_type": "text"
      },
      "cell_type": "markdown",
      "source": [
        "\n",
        "## Tutorial Overview\n",
        "\n",
        "This tutorial is meant to get you accustomed to the structure of PsyNeuLink and be able to construct basic models. Starting with a simple 1-to-1 transformation, we will build up to making the Stroop model from Cohen et al. (1990). Let's get started!"
      ]
    },
    {
      "metadata": {
        "id": "3NqfZlNPeZDU",
        "colab_type": "code",
        "outputId": "4ad798e1-b1e5-4c99-a435-9b69fb1d70ee",
        "colab": {
          "base_uri": "https://localhost:8080/",
          "height": 394
        }
      },
      "cell_type": "code",
      "source": [
        "!pip install psyneulink\n",
        "import numpy as np\n",
        "from matplotlib import pyplot as plt\n",
        "% matplotlib inline\n",
        "import random"
      ],
      "execution_count": 1,
      "outputs": [
        {
          "output_type": "stream",
          "text": [
            "Collecting psyneulink\n",
            "\u001b[?25l  Downloading https://files.pythonhosted.org/packages/07/2b/562efbc4f30ef6a2515f43eef0c787fffa9a17f6e04f024bb3fe4e48a7c0/psyneulink-0.5.0.0-py3-none-any.whl (1.2MB)\n",
            "\u001b[K    100% |████████████████████████████████| 1.2MB 16.3MB/s \n",
            "\u001b[?25hCollecting aenum (from psyneulink)\n",
            "  Downloading https://files.pythonhosted.org/packages/0d/46/5b6a6c13fee40f9dfaba84de1394bfe082c0c7d95952ba0ffbd56ce3a3f7/aenum-2.1.2-py3-none-any.whl\n",
            "Collecting toposort==1.4 (from psyneulink)\n",
            "  Downloading https://files.pythonhosted.org/packages/f6/f7/875e23067652488ae40603336fdd63510a1e1853672b5b829a78452fd31c/toposort-1.4.tar.gz\n",
            "Requirement already satisfied: numpy in /usr/local/lib/python3.6/dist-packages (from psyneulink) (1.14.6)\n",
            "Requirement already satisfied: llvmlite in /usr/local/lib/python3.6/dist-packages (from psyneulink) (0.27.0)\n",
            "Requirement already satisfied: pillow in /usr/local/lib/python3.6/dist-packages (from psyneulink) (4.0.0)\n",
            "Collecting typecheck-decorator==1.2 (from psyneulink)\n",
            "  Downloading https://files.pythonhosted.org/packages/e0/4d/c925353ad7a3b69ad9957748bdc709aa535df0a303f2d0318e02ad8f39d2/typecheck-decorator-1.2.zip\n",
            "Requirement already satisfied: olefile in /usr/local/lib/python3.6/dist-packages (from pillow->psyneulink) (0.46)\n",
            "Building wheels for collected packages: toposort, typecheck-decorator\n",
            "  Running setup.py bdist_wheel for toposort ... \u001b[?25l-\b \bdone\n",
            "\u001b[?25h  Stored in directory: /root/.cache/pip/wheels/ed/a8/38/946bc153bb06e870947f09601a66291c8ea0ddb5275b20314d\n",
            "  Running setup.py bdist_wheel for typecheck-decorator ... \u001b[?25l-\b \bdone\n",
            "\u001b[?25h  Stored in directory: /root/.cache/pip/wheels/ef/12/5a/fd05ccc14a1471b48e92c86ef837164eeeb26d80acdf2084f3\n",
            "Successfully built toposort typecheck-decorator\n",
            "Installing collected packages: aenum, toposort, typecheck-decorator, psyneulink\n",
            "Successfully installed aenum-2.1.2 psyneulink-0.5.0.0 toposort-1.4 typecheck-decorator-1.2\n"
          ],
          "name": "stdout"
        }
      ]
    },
    {
      "metadata": {
        "id": "qYc5QvoieZDY",
        "colab_type": "code",
        "colab": {}
      },
      "cell_type": "code",
      "source": [
        "import psyneulink as pnl"
      ],
      "execution_count": 0,
      "outputs": []
    },
    {
      "metadata": {
        "id": "jteZ9tloeZDb",
        "colab_type": "text"
      },
      "cell_type": "markdown",
      "source": [
        "The two previous cells import functions from libraries.  When you see abbreviations (np. plt. or pnl. -- as in pnl.TransferMechanism) in the following examples, it indicates which library the function came from.   "
      ]
    },
    {
      "metadata": {
        "id": "HE729KjTeZDc",
        "colab_type": "text"
      },
      "cell_type": "markdown",
      "source": [
        "### Creating a mechanism\n",
        "\n",
        "*[Mechanisms](https://princetonuniversity.github.io/PsyNeuLink/Mechanism.html)* are the basic units of computation in PsyNeuLink. At their core is a parameterized *function* (parameters are variables within a function: for a simple example multiply-by-n, multiply is the function and n is the parameter).  Mechanisms also contain the machinery to interact with input, output, control, and learning signals. Our first mechanism will perform a linear transformation on a scalar input (multiply-by-n is one kind of linear transformation; a scalar is a number that has magnitude but no direction, unlike a vector that has both magnitude and direction). For now, we will initialize the mechanism by specifying its *function*."
      ]
    },
    {
      "metadata": {
        "id": "-2nStSVzeZDc",
        "colab_type": "code",
        "colab": {}
      },
      "cell_type": "code",
      "source": [
        "linear_transfer_mechanism = pnl.TransferMechanism(\n",
        "    function=pnl.Linear(slope=1, intercept=0))"
      ],
      "execution_count": 0,
      "outputs": []
    },
    {
      "metadata": {
        "id": "o0z2RGjfeZDf",
        "colab_type": "text"
      },
      "cell_type": "markdown",
      "source": [
        "In this case, we didn't actually need to specify the slope and intercept as the function will default to reasonable values (if we didn't specify it would have defaulted to a slope of 1 and intercept of 0).  The function above has two parameters, slope and intercept.  If we wrote the equation as y = ax + b, a is the slope, b is the input, x is the input and y is the output.  As a function we write this f(x) = ax + b.  Note that you can change these parameter values of a=1 and b=0 to other numbers -- because parameters are variables within a function.  \n",
        "\n",
        "Some transfer functions other than Linear that you could use are: Exponential, Logistic, or SoftMax.  An Exponential function raises some input number to an exponent (e.g. squaring a number is an exponent of 2, and the square root of a number is an exponent of 1/2).  The output of a Logistic function is bounded between 0 and 1, and we'll learn a bit more about it later in this tutorial.  SoftMax is a more complex function that is often used in neural networks, and you don't need to understand how it works yet.     \n",
        "\n",
        "Next let's try inputing the number 2 to our linear transfer mechanism..."
      ]
    },
    {
      "metadata": {
        "id": "IVxi2mL2eZDf",
        "colab_type": "code",
        "outputId": "5e29b5ec-55b4-4f2b-b7fc-7c6bf95652f5",
        "colab": {
          "base_uri": "https://localhost:8080/",
          "height": 34
        }
      },
      "cell_type": "code",
      "source": [
        "linear_transfer_mechanism.execute([2])"
      ],
      "execution_count": 4,
      "outputs": [
        {
          "output_type": "execute_result",
          "data": {
            "text/plain": [
              "array([[2.]])"
            ]
          },
          "metadata": {
            "tags": []
          },
          "execution_count": 4
        }
      ]
    },
    {
      "metadata": {
        "id": "31_SCWAueZDl",
        "colab_type": "text"
      },
      "cell_type": "markdown",
      "source": [
        "The number 2 was input to the function.\n",
        "\n",
        "Try reparamaterizing the mechanism (change the slope and/or intercept) and executing again before moving on...  \n",
        "\n",
        "If you change slope to 3, run the code by pressing play, then change the input value to 4, what output do you get?  Why?  Can you predict what will happen if you change the slope to 4 and intercept to 5 and run both cells again with an input of 3? \n",
        "\n",
        "Another way of expressing this function is (slope x input) + intercept. \n",
        "\n",
        "### Logistic Function\n",
        "\n",
        "The following cell plots a logistic function with the default parameters; gain = 1, bias = 0, offset = 0.    "
      ]
    },
    {
      "metadata": {
        "id": "WhMLBJoeeZDl",
        "colab_type": "code",
        "outputId": "eef7e035-48ca-425c-8cc5-861910bec0ef",
        "colab": {
          "base_uri": "https://localhost:8080/",
          "height": 265
        }
      },
      "cell_type": "code",
      "source": [
        "logistic_transfer_demo = pnl.TransferMechanism(function=pnl.Logistic(gain=1, bias=0, offset=0))\n",
        "logistic_transfer_demo.plot()"
      ],
      "execution_count": 5,
      "outputs": [
        {
          "output_type": "display_data",
          "data": {
            "image/png": "[encoded data removed]",
            "text/plain": [
              "<Figure size 432x288 with 1 Axes>"
            ]
          },
          "metadata": {
            "tags": []
          }
        }
      ]
    },
    {
      "metadata": {
        "id": "_VlEjo58eZDp",
        "colab_type": "text"
      },
      "cell_type": "markdown",
      "source": [
        "In the cell below you can plug a single number into this function and get an output value.  Your input corresponds to a point on the x axis, and the output is the corresponding y value (height of the point on the curve above the x you specified).   "
      ]
    },
    {
      "metadata": {
        "id": "b_UWLNDOeZDq",
        "colab_type": "code",
        "outputId": "c81f5105-039e-4393-8f62-da016781d95e",
        "colab": {
          "base_uri": "https://localhost:8080/",
          "height": 34
        }
      },
      "cell_type": "code",
      "source": [
        "logistic_transfer_demo.execute([-2])"
      ],
      "execution_count": 6,
      "outputs": [
        {
          "output_type": "execute_result",
          "data": {
            "text/plain": [
              "array([[0.11920292]])"
            ]
          },
          "metadata": {
            "tags": []
          },
          "execution_count": 6
        }
      ]
    },
    {
      "metadata": {
        "id": "l-DHHkHCeZDv",
        "colab_type": "text"
      },
      "cell_type": "markdown",
      "source": [
        "The logistic function is useful because it is bounded between 0 and 1.  Gain determines how steep the central portion of the S curve is, with higher values being steeper.  Bias shifts the curve left or right.  You can turn the logistic function effectively into a step function that works as a threshhold by increasing gain.  The step in the step function (where it crosses through 0.5 on the Y axis) is located on the X axis at (offset/gain) + bias. \n"
      ]
    },
    {
      "metadata": {
        "id": "nskYTcIreZDv",
        "colab_type": "code",
        "outputId": "77fa368e-857b-44f8-e089-d9249d0fdfab",
        "colab": {
          "base_uri": "https://localhost:8080/",
          "height": 265
        }
      },
      "cell_type": "code",
      "source": [
        "logistic_transfer_demo2 = pnl.TransferMechanism(function=pnl.Logistic(gain=5,offset=10, bias=0))\n",
        "logistic_transfer_demo2.plot()"
      ],
      "execution_count": 7,
      "outputs": [
        {
          "output_type": "display_data",
          "data": {
            "image/png": "[encoded data removed]",
            "text/plain": [
              "<Figure size 432x288 with 1 Axes>"
            ]
          },
          "metadata": {
            "tags": []
          }
        }
      ]
    },
    {
      "metadata": {
        "id": "rsXaKuuOeZDy",
        "colab_type": "text"
      },
      "cell_type": "markdown",
      "source": [
        "Negative values of gain mirror reverse the S curve accross the vertical axis, centered at the x value of (offset/gain)+bias.  Below notice that offset/gain is -2 (10/-5), and at an X value of -2 the Y value is 0.5.  "
      ]
    },
    {
      "metadata": {
        "id": "tZMB3byHeZD0",
        "colab_type": "code",
        "outputId": "bfdbfa41-50df-4a5f-f149-ca291c7bf757",
        "colab": {
          "base_uri": "https://localhost:8080/",
          "height": 265
        }
      },
      "cell_type": "code",
      "source": [
        "logistic_transfer_demo3 = pnl.TransferMechanism(function=pnl.Logistic(gain=-5, bias=0, offset=10))\n",
        "logistic_transfer_demo3.plot()"
      ],
      "execution_count": 8,
      "outputs": [
        {
          "output_type": "display_data",
          "data": {
            "image/png": "[encoded data removed]",
            "text/plain": [
              "<Figure size 432x288 with 1 Axes>"
            ]
          },
          "metadata": {
            "tags": []
          }
        }
      ]
    },
    {
      "metadata": {
        "id": "4nBtFk6WeZD4",
        "colab_type": "text"
      },
      "cell_type": "markdown",
      "source": [
        "### Gain, Offset, & Bias\n",
        "\n",
        "Imagine you have a neuron that has to decide whether to fire or not based upon its own parameters and some input.  Let's say this artificial neuron is a greater-than-0-detector for its input -- if the input is greater than 0 it fires, otherwise it will not fire.  Now if the neuron receives input [4] it will fire.  If it receives [-3] it will not fire.  In this simplified scenario, gain is a parameter that multiplies input by some value (e.g. multiply everyting by 2, or by 0.15, or whatever you choose), and bias is a parameter that changes the threshold (e.g. bias -2 shifts the threshold down from 0 to -2, turning the neuron into a greater than -2 detector, while bias +2 shifts the threshold up to 2).  \n",
        "\n",
        "The actual logistic function is a bit more complicated than this example: within the logistic function bias and gain are parameters in the denominator's exponent -- you don't need to know the exact equation, but one reason a logistic function is useful is that its output is bounded between 0 and 1.  \n",
        "\n",
        "Try changing the values of bias, offset, and gain in the two cells above, and see how it impacts the graph (execute the cell two above and then the cell one above to see the effect after you change these parameters).  The default values are gain = 1, offset = 0, and bias = 0.  \n",
        "\n",
        "You should notice two propoerties of the logistic function: 1) the steepness of the S-shaped curve [gain], and 2) where the midpoint y-value of 0.5 aligns with the x axis [bias].  **Increasing gain above 1 will make the curve steeper.  Decreasing gain to a fraction between 0 and 1 will make the curve shallower.  Increasing or decreasing bias will shift the curve right or left.  If you want to shift the curve proportional to gain, offset can do this, shifting the curve left or right by (offset/gain).** "
      ]
    },
    {
      "metadata": {
        "id": "wTh74ZwheZD5",
        "colab_type": "text"
      },
      "cell_type": "markdown",
      "source": [
        "### Organizing into Processes\n",
        "\n",
        "Generally with PsyNeuLink, you won't be executing mechanisms as stand-alone entities. Rather, they will be encapsulated inside *[Processes](https://princetonuniversity.github.io/PsyNeuLink/Process.html)* and later *[Systems](https://princetonuniversity.github.io/PsyNeuLink/System.html)*. A Process is a collection of mechanisms and projections to be executed serially. You can think of all this with an analogy to digestion.  Chew the food first, then swallow and it is \"projected\" to the stomach, then the stomach soaks food in digestive acid to further break it down, then the output is projected to the small intestine where nutrients are absorbed.  Note that the order matters -- the small intestine wouldn't be effective if food hadn't been chewed and then broken down in the stompach. \n",
        "\n",
        "The next level up, you can combine Processes to build Systems.  A Mechanism takes some input, performs a function, and delivers an output.  The same is true of a Process and System -- they take some input, perform multiple functions, and deliver some output.  A powerful feature of this input-output architecture is that an entire System today can become a Mechanism tomorrow in a more complex Process or System, and that System can become a Mechanisms in yet a more complex System, all the way up. [Note: this is true in principle, but PsyNeuLink is actively under development and such scaled up functionality is not all implemented.]  \n",
        "\n",
        "The main parameter when initializing a Process is its pathway, which is the order in which the Mechanisms will execute. Of course, with only one Mechanism in our Process, the list has just one element.\n",
        "\n",
        "To better see how the process runs, we can also turn on output reporting. Reporting can happen at every level in PsyNeuLink so we set the preference for both the process and mechanism."
      ]
    },
    {
      "metadata": {
        "id": "-aSY-Y8reZD6",
        "colab_type": "code",
        "colab": {}
      },
      "cell_type": "code",
      "source": [
        "linear_transfer_process = pnl.Process(pathway = [linear_transfer_mechanism])\n",
        "\n",
        "linear_transfer_mechanism.reportOutputPref = True\n",
        "linear_transfer_process.reportOutputPref = True"
      ],
      "execution_count": 0,
      "outputs": []
    },
    {
      "metadata": {
        "id": "FMW6Ww0ReZD-",
        "colab_type": "code",
        "outputId": "c44a1779-f167-4d2c-818b-f42bc73c2011",
        "colab": {
          "base_uri": "https://localhost:8080/",
          "height": 323
        }
      },
      "cell_type": "code",
      "source": [
        "linear_transfer_process.show()"
      ],
      "execution_count": 10,
      "outputs": [
        {
          "output_type": "stream",
          "text": [
            "\n",
            "---------------------------------------------------------\n",
            "\n",
            "Process-0\n",
            "\n",
            "\tLearning enabled: False\n",
            "\n",
            "\tMechanisms:\n",
            "\t\tTransferMechanism-0\n",
            "\n",
            "\tOrigin Mechanism: \n",
            "\t\tTransferMechanism-0\n",
            "\n",
            "\tTerminal Mechanism: \n",
            "\t\tTransferMechanism-0\n",
            "\t\t\tRESULTS\n",
            "\n",
            "---------------------------------------------------------\n"
          ],
          "name": "stdout"
        }
      ]
    },
    {
      "metadata": {
        "id": "1k99jWbseZEC",
        "colab_type": "code",
        "outputId": "d90f8a96-c941-4074-aa8e-1056c27309ac",
        "colab": {
          "base_uri": "https://localhost:8080/",
          "height": 578
        }
      },
      "cell_type": "code",
      "source": [
        "linear_transfer_process.execute([4])"
      ],
      "execution_count": 11,
      "outputs": [
        {
          "output_type": "stream",
          "text": [
            "\n",
            "\n",
            "****************************************\n",
            "\n",
            "\n",
            "''Process-0' process_base' executing with:\n",
            "- pathway: ['TransferMechanism-0']\n",
            "- input: [[4]]\n",
            "\n",
            "'TransferMechanism-0'  executed:\n",
            "- input:  4.0\n",
            "- params:\n",
            "\tconvergence_criterion: 0.01\n",
            "\tconvergence_function: Distance Function-2\n",
            "\t\tintercept: 0\n",
            "\t\tslope: 1\n",
            "\tfunction: Linear Function-5\n",
            "\t\tintercept: 0\n",
            "\t\tslope: 1\n",
            "\tinitial_value: None\n",
            "\tintegration_rate: 0.5\n",
            "\tintegrator_mode: False\n",
            "\tmax_passes: 1000\n",
            "\tnoise: 0.\n",
            "- output: 2.0\n",
            "\n",
            "''Process-0' process_base' completed:\n",
            "- output: 4.0\n",
            "\n",
            "\n",
            "****************************************\n",
            "\n"
          ],
          "name": "stdout"
        },
        {
          "output_type": "execute_result",
          "data": {
            "text/plain": [
              "array([4.])"
            ]
          },
          "metadata": {
            "tags": []
          },
          "execution_count": 11
        }
      ]
    },
    {
      "metadata": {
        "id": "y4E1FYQMeZEH",
        "colab_type": "text"
      },
      "cell_type": "markdown",
      "source": [
        "Let's turn off the reporting and look at our process' output over a wider range of values."
      ]
    },
    {
      "metadata": {
        "id": "0W1M9tf0eZEH",
        "colab_type": "code",
        "outputId": "56347e6d-fc35-4c3a-a549-ff7e39b10e68",
        "colab": {
          "base_uri": "https://localhost:8080/",
          "height": 282
        }
      },
      "cell_type": "code",
      "source": [
        "linear_transfer_mechanism.reportOutputPref = False\n",
        "linear_transfer_process.reportOutputPref = False\n",
        "\n",
        "xVals = np.linspace(-3, 3, num=51) # create 51 points between -3 and +3\n",
        "yVals = np.zeros((51,))\n",
        "for i in range(xVals.shape[0]):\n",
        "    yVals[i] = linear_transfer_process.execute([xVals[i]])[0]\n",
        "    # Progress bar\n",
        "    print(\"-\", end=\"\")\n",
        "plt.plot(xVals, yVals)\n",
        "plt.show()"
      ],
      "execution_count": 12,
      "outputs": [
        {
          "output_type": "stream",
          "text": [
            "---------------------------------------------------"
          ],
          "name": "stdout"
        },
        {
          "output_type": "display_data",
          "data": {
            "image/png": "[encoded data removed]",
            "text/plain": [
              "<Figure size 432x288 with 1 Axes>"
            ]
          },
          "metadata": {
            "tags": []
          }
        }
      ]
    },
    {
      "metadata": {
        "id": "e0QRrLmseZEM",
        "colab_type": "text"
      },
      "cell_type": "markdown",
      "source": [
        "Now let's put it all together and make a new transfer process, this time with a logistic activation function. We will also extend our mechanism by giving it two units (operating on a 1x2 matrix) rather than the default one (operating on a scalar)."
      ]
    },
    {
      "metadata": {
        "id": "zKEM0eEzeZEO",
        "colab_type": "code",
        "outputId": "c7b0f1b3-22e7-49c5-f03e-08c2a8b3e3c2",
        "colab": {
          "base_uri": "https://localhost:8080/",
          "height": 282
        }
      },
      "cell_type": "code",
      "source": [
        "# Create the mechanism\n",
        "logistic_transfer_mechanism = pnl.TransferMechanism(default_variable=[0, 0],\n",
        "                                                function=pnl.Logistic(gain=1,\n",
        "                                                                  bias=0))\n",
        "\n",
        "# Package into a process\n",
        "logistic_transfer_process = pnl.Process(pathway=[logistic_transfer_mechanism])\n",
        "\n",
        "# Iterate and plot\n",
        "xVals = np.linspace(-3, 3, num=51)\n",
        "y1Vals = np.zeros((51,))\n",
        "y2Vals = np.zeros((51,))\n",
        "for i in range(xVals.shape[0]):\n",
        "    # clarify why multiplying times 2\n",
        "    output = logistic_transfer_process.execute([xVals[i], xVals[i] * 3])\n",
        "    y1Vals[i] = output[0]\n",
        "    y2Vals[i] = output[1]\n",
        "    # Progress bar\n",
        "    print(\"-\", end=\"\")\n",
        "plt.plot(xVals, y1Vals)\n",
        "plt.plot(xVals, y2Vals)\n",
        "plt.show()"
      ],
      "execution_count": 13,
      "outputs": [
        {
          "output_type": "stream",
          "text": [
            "---------------------------------------------------"
          ],
          "name": "stdout"
        },
        {
          "output_type": "display_data",
          "data": {
            "image/png": "[encoded data removed]",
            "text/plain": [
              "<Figure size 432x288 with 1 Axes>"
            ]
          },
          "metadata": {
            "tags": []
          }
        }
      ]
    },
    {
      "metadata": {
        "id": "R_OXsH1heZET",
        "colab_type": "text"
      },
      "cell_type": "markdown",
      "source": [
        "The `default_variable` parameter serves a dual function. It specifies the dimensionality of the mechanism as well as providing the inputs that will be given in the absence of explicit input at runtime.  You can also specify the dimensionality using \"size\", e.g. size=2 will also create default_variable=[0,0]."
      ]
    },
    {
      "metadata": {
        "id": "n93s1IefeZEU",
        "colab_type": "code",
        "colab": {}
      },
      "cell_type": "code",
      "source": [
        "logistic_transfer_mechanism2 = pnl.TransferMechanism(default_variable=[0, 0],\n",
        "                                                function=pnl.Logistic(gain=100,\n",
        "                                                                  offset=100))"
      ],
      "execution_count": 0,
      "outputs": []
    },
    {
      "metadata": {
        "id": "IJu2KR8seZEa",
        "colab_type": "code",
        "outputId": "5f544558-81ee-4e28-da43-366dad1dd403",
        "colab": {
          "base_uri": "https://localhost:8080/",
          "height": 34
        }
      },
      "cell_type": "code",
      "source": [
        "logistic_transfer_mechanism2.execute([.9,1.1])"
      ],
      "execution_count": 16,
      "outputs": [
        {
          "output_type": "execute_result",
          "data": {
            "text/plain": [
              "array([[4.53978687e-05, 9.99954602e-01]])"
            ]
          },
          "metadata": {
            "tags": []
          },
          "execution_count": 16
        }
      ]
    },
    {
      "metadata": {
        "id": "ohqr6H4ReZEe",
        "colab_type": "text"
      },
      "cell_type": "markdown",
      "source": [
        "### Adding Projections\n",
        "\n",
        "To make more complex processes, we need a way to link mechanisms together. This is done through *[Projections](https://princetonuniversity.github.io/PsyNeuLink/Projection.html)*. A projection takes a mechanism output, multiplies it by the projection's mapping matrix, and delivers the transformed value to the next mechanism in the process."
      ]
    },
    {
      "metadata": {
        "id": "zKh4EZA0eZEe",
        "colab_type": "code",
        "outputId": "117fbd99-097c-43c3-a29d-4923c634067b",
        "colab": {
          "base_uri": "https://localhost:8080/",
          "height": 282
        }
      },
      "cell_type": "code",
      "source": [
        "linear_input_unit = pnl.TransferMechanism(function=pnl.Linear(slope=2, intercept=2))\n",
        "logistic_output_unit = pnl.TransferMechanism(function=pnl.Logistic())\n",
        "mini_connected_network = pnl.Process(\n",
        "    pathway=[linear_input_unit, pnl.IDENTITY_MATRIX, logistic_output_unit])\n",
        "\n",
        "# Iterate and plot\n",
        "xVals = np.linspace(-3, 3, num=51)\n",
        "yVals = np.zeros((51,))\n",
        "for i in range(xVals.shape[0]):\n",
        "    yVals[i] = mini_connected_network.execute([xVals[i]])[0]\n",
        "    # Progress bar\n",
        "    print(\"-\", end=\"\")\n",
        "plt.plot(xVals, yVals)\n",
        "plt.show()"
      ],
      "execution_count": 17,
      "outputs": [
        {
          "output_type": "stream",
          "text": [
            "---------------------------------------------------"
          ],
          "name": "stdout"
        },
        {
          "output_type": "display_data",
          "data": {
            "image/png": "[encoded data removed]",
            "text/plain": [
              "<Figure size 432x288 with 1 Axes>"
            ]
          },
          "metadata": {
            "tags": []
          }
        }
      ]
    },
    {
      "metadata": {
        "id": "TEcfcAyseZEh",
        "colab_type": "text"
      },
      "cell_type": "markdown",
      "source": [
        "`IDENTITY_MATRIX` is a keyword that provides a projection from the unit preceding it to the unit following that creates a one-to-one output to input projection between the two. \n",
        "\n",
        "Now let's make our projection definition a bit more explicit."
      ]
    },
    {
      "metadata": {
        "id": "ayUTAB1XeZEi",
        "colab_type": "code",
        "outputId": "f9fb0693-5b73-4c69-ff85-fc81cae44ad5",
        "colab": {
          "base_uri": "https://localhost:8080/",
          "height": 282
        }
      },
      "cell_type": "code",
      "source": [
        "linear_input_unit = pnl.TransferMechanism(function=pnl.Linear(slope=2, intercept=2))\n",
        "logistic_output_unit = pnl.TransferMechanism(function=pnl.Logistic())\n",
        "\n",
        "mapping_matrix = np.asarray([[1]])\n",
        "unit_mapping_projection = pnl.MappingProjection(sender=linear_input_unit,\n",
        "                                            receiver=logistic_output_unit,\n",
        "                                            matrix=mapping_matrix)\n",
        "mini_connected_network = pnl.Process(\n",
        "    pathway=[linear_input_unit, unit_mapping_projection, logistic_output_unit])\n",
        "\n",
        "# Iterate and plot\n",
        "xVals = np.linspace(-3, 3, num=51)\n",
        "yVals = np.zeros((51,))\n",
        "for i in range(xVals.shape[0]):\n",
        "    yVals[i] = mini_connected_network.execute([xVals[i]])[0]\n",
        "    # Progress bar\n",
        "    print(\"-\", end=\"\")\n",
        "plt.plot(xVals, yVals)\n",
        "plt.show()"
      ],
      "execution_count": 18,
      "outputs": [
        {
          "output_type": "stream",
          "text": [
            "---------------------------------------------------"
          ],
          "name": "stdout"
        },
        {
          "output_type": "display_data",
          "data": {
            "image/png": "[encoded data removed]",
            "text/plain": [
              "<Figure size 432x288 with 1 Axes>"
            ]
          },
          "metadata": {
            "tags": []
          }
        }
      ]
    },
    {
      "metadata": {
        "id": "x1HYAK3leZEl",
        "colab_type": "text"
      },
      "cell_type": "markdown",
      "source": [
        "This time we specified our mapping matrix (which is a 2-D numpy array) then explicitly initialized a *[MappingProjection](https://princetonuniversity.github.io/PsyNeuLink/MappingProjection.html)* with that matrix as well as its input and output mechanisms. Note: because we specified the input and output mechanisms in the projection itself, we didn't need to include it in the process pathway as it will infer its position from those parameters. Ultimately, however, this does the exact same thing as our keyword method above which is far less verbose for this common use case."
      ]
    },
    {
      "metadata": {
        "id": "_g8rqsZmeZEn",
        "colab_type": "text"
      },
      "cell_type": "markdown",
      "source": [
        "### Systems\n",
        "\n",
        "The highest level at which models are considered in PsyNeuLink is that of the *[System](https://princetonuniversity.github.io/PsyNeuLink/System.html)*. A system is composed of one or more processes which can then run in unison. This allows system graphs to be more complex than the strictly linear ones of processes. Our first system will consist of two input nodes that converge on a single output mechanism. We will be modelling competition between color naming and word reading in the Stroop task.  [Recall that the Stroop task involves naming the ink color of words: when the word itself mismatches with the ink color it is written in (e.g. the word RED written in blue ink), that produces conflict and slower response times to name the ink color.]  "
      ]
    },
    {
      "metadata": {
        "id": "mpHRccxZeZEo",
        "colab_type": "code",
        "colab": {}
      },
      "cell_type": "code",
      "source": [
        "colors = pnl.TransferMechanism(default_variable=[0, 0], function=pnl.Linear,\n",
        "                           name=\"Colors\")\n",
        "words = pnl.TransferMechanism(default_variable=[0, 0],\n",
        "                          function=pnl.Linear(slope=1.5), name=\"Words\")\n",
        "response = pnl.TransferMechanism(default_variable=[0, 0], function=pnl.Logistic,\n",
        "                             name=\"Response\")\n",
        "\n",
        "color_naming_process = pnl.Process(pathway=[colors, pnl.IDENTITY_MATRIX, response],\n",
        "                               name=\"Color Naming\")\n",
        "word_reading_process = pnl.Process(pathway=[words, pnl.IDENTITY_MATRIX, response],\n",
        "                               name=\"Word Reading\")\n",
        "\n",
        "# Should pass in scheduler or have system create new scheduler if scheduler=None\n",
        "mini_stroop = pnl.System(processes=[color_naming_process, word_reading_process],\n",
        "                     name='Stroop Model')"
      ],
      "execution_count": 0,
      "outputs": []
    },
    {
      "metadata": {
        "id": "p4e34NNaeZEs",
        "colab_type": "text"
      },
      "cell_type": "markdown",
      "source": [
        "The order of processes in the system initialization is important here as it is the order we will feed inputs to the system.\n",
        "\n",
        "It is often useful to view models as graphs, and the following cell will generate a graph of this simple model."
      ]
    },
    {
      "metadata": {
        "id": "Og_sxqIVeZEt",
        "colab_type": "code",
        "colab": {}
      },
      "cell_type": "code",
      "source": [
        "#mini_stroop.show_graph(output_fmt = 'jupyter')\n",
        "#!pip install graphviz\n",
        "import graphviz \n",
        "#mini_stroop.show_graph(output_fmt = 'jupyter')"
      ],
      "execution_count": 0,
      "outputs": []
    },
    {
      "metadata": {
        "id": "EqBdhOkyeZE0",
        "colab_type": "text"
      },
      "cell_type": "markdown",
      "source": [
        "Along with graphs, you can inspect the elements of a system by using the .show( ) command shown in the following cell.  For simple models like the mini_stroop, this is not necessary.  However, when models get increasingly complex and you want to understand the flow of processing, the .show() function is quite helpful.  "
      ]
    },
    {
      "metadata": {
        "id": "yjgs9KmkeZE1",
        "colab_type": "code",
        "outputId": "61085eaf-1f09-457c-eb28-345cc2247545",
        "colab": {
          "base_uri": "https://localhost:8080/",
          "height": 289
        }
      },
      "cell_type": "code",
      "source": [
        "mini_stroop.show()"
      ],
      "execution_count": 21,
      "outputs": [
        {
          "output_type": "stream",
          "text": [
            "\n",
            "---------------------------------------------------------\n",
            "\n",
            "Stroop Model\n",
            "\n",
            "\tControl enabled: False\n",
            "\n",
            "\tProcesses:\n",
            "\t\tColor Naming [learning enabled: False]\n",
            "\t\tWord Reading [learning enabled: False]\n",
            "\n",
            "\tExecution sets: \n",
            "\t\tSet 0:\n",
            "\t\t\t{ Colors Words }\n",
            "\t\tSet 1:\n",
            "\t\t\t{ Response }\n"
          ],
          "name": "stdout"
        }
      ]
    },
    {
      "metadata": {
        "id": "t7SWEfSaeZE4",
        "colab_type": "code",
        "outputId": "51579f8a-a994-414c-f3c8-fd39eb90937a",
        "colab": {
          "base_uri": "https://localhost:8080/",
          "height": 34
        }
      },
      "cell_type": "code",
      "source": [
        "input = {colors: [1, 0], \n",
        "         words: [0, 1]}\n",
        "mini_stroop.run(input)"
      ],
      "execution_count": 22,
      "outputs": [
        {
          "output_type": "execute_result",
          "data": {
            "text/plain": [
              "[[array([0.73105858, 0.81757448])]]"
            ]
          },
          "metadata": {
            "tags": []
          },
          "execution_count": 22
        }
      ]
    },
    {
      "metadata": {
        "id": "2_Qi4KRPeZE9",
        "colab_type": "text"
      },
      "cell_type": "markdown",
      "source": [
        "An input of [1, 0] to ink is red ink, and [0, 1] is blue ink.  \n",
        "An input of [1, 0] to word is \"red\" and [0, 1] is \"blue\".  \n",
        "If the input values to ink and word are the same, that is a congruent trial.  If the input values to the ink and word are different that is an incongruent trial.  \n",
        "\n",
        "In the output of the system, the first output value is the strength to respond red, and the second value is the strength to respond blue.  "
      ]
    },
    {
      "metadata": {
        "id": "qfgTNUD8eZE9",
        "colab_type": "code",
        "outputId": "d91f4986-fe85-4f47-e0a3-e067f103936e",
        "colab": {
          "base_uri": "https://localhost:8080/",
          "height": 34
        }
      },
      "cell_type": "code",
      "source": [
        "input_dict = {colors: [0, 1],\n",
        "              words: [0, 1]}\n",
        "mini_stroop.run(input_dict)"
      ],
      "execution_count": 23,
      "outputs": [
        {
          "output_type": "execute_result",
          "data": {
            "text/plain": [
              "[[array([0.73105858, 0.81757448])], [array([0.5       , 0.92414182])]]"
            ]
          },
          "metadata": {
            "tags": []
          },
          "execution_count": 23
        }
      ]
    },
    {
      "metadata": {
        "id": "WjUODbE1eZFA",
        "colab_type": "text"
      },
      "cell_type": "markdown",
      "source": [
        "As modeled, we see that word reading beats out color naming when there is conflict, but congruent stimuli elicit an even stronger response."
      ]
    },
    {
      "metadata": {
        "id": "y5kRTY40eZFB",
        "colab_type": "text"
      },
      "cell_type": "markdown",
      "source": [
        "### Pre-trained Complete Stroop Model\n",
        "\n",
        "Let's practice using systems by recreating the more complex stroop model from Cohen et al (1990). Later we will train the network ourselves, but for now we will explicitly model the learned weights."
      ]
    },
    {
      "metadata": {
        "id": "zY8zdLOjeZFC",
        "colab_type": "code",
        "colab": {}
      },
      "cell_type": "code",
      "source": [
        "ink_color = pnl.TransferMechanism(default_variable=[0, 0], function=pnl.Linear())\n",
        "word = pnl.TransferMechanism(default_variable=[0, 0], function=pnl.Linear())\n",
        "task_demand = pnl.TransferMechanism(default_variable=[0, 0], function=pnl.Linear())\n",
        "\n",
        "hidden_layer = pnl.TransferMechanism(default_variable=[0, 0, 0, 0],\n",
        "                                 function=pnl.Logistic(bias=-4))\n",
        "\n",
        "output_layer = pnl.TransferMechanism(default_variable=[0, 0], function=pnl.Linear())\n",
        "\n",
        "color_mapping_matrix = np.asarray([[2.2, -2.2, 0, 0], [-2.2, 2.2, 0, 0]])\n",
        "color_projection = pnl.MappingProjection(sender=ink_color, receiver=hidden_layer,\n",
        "                                     matrix=color_mapping_matrix)\n",
        "word_mapping_matrix = np.asarray([[0, 0, 2.6, -2.6], [0, 0, -2.6, 2.6]])\n",
        "word_projection = pnl.MappingProjection(sender=word, receiver=hidden_layer,\n",
        "                                    matrix=word_mapping_matrix)\n",
        "task_mapping_matrix = np.asarray([[4, 4, 0, 0], [0, 0, 4, 4]])\n",
        "task_projection = pnl.MappingProjection(sender=task_demand, receiver=hidden_layer,\n",
        "                                    matrix=task_mapping_matrix)\n",
        "output_mapping_matrix = np.asarray(\n",
        "    [[1.3, -1.3], [-1.3, 1.3], [2.5, -2.5], [-2.5, 2.5]])\n",
        "pnl.MappingProjection(sender=hidden_layer, receiver=output_layer,\n",
        "                  matrix=output_mapping_matrix)\n",
        "\n",
        "color_naming_process = pnl.Process(pathway=[ink_color, hidden_layer, output_layer])\n",
        "word_reading_process = pnl.Process(pathway=[word, hidden_layer, output_layer])\n",
        "task_process = pnl.Process(pathway=[task_demand, hidden_layer, output_layer])\n",
        "\n",
        "stroop_model = pnl.System(\n",
        "    processes=[color_naming_process, word_reading_process, task_process])\n",
        "\n",
        "ink_color.reportOutputPref = True\n",
        "word.reportOutputPref = True\n",
        "task_demand.reportOutputPref = True\n",
        "hidden_layer.reportOutputPref = True"
      ],
      "execution_count": 0,
      "outputs": []
    },
    {
      "metadata": {
        "id": "20R3ZoupeZFG",
        "colab_type": "code",
        "outputId": "bd8f941e-154e-4560-cdf2-732a670f3f39",
        "colab": {
          "base_uri": "https://localhost:8080/",
          "height": 272
        }
      },
      "cell_type": "code",
      "source": [
        "stroop_model.show_graph(output_fmt = 'jupyter')"
      ],
      "execution_count": 25,
      "outputs": [
        {
          "output_type": "execute_result",
          "data": {
            "text/plain": [
              "<graphviz.dot.Digraph at 0x7f66b116a9e8>"
            ],
            "image/svg+xml": "<?xml version=\"1.0\" encoding=\"UTF-8\" standalone=\"no\"?>\n<!DOCTYPE svg PUBLIC \"-//W3C//DTD SVG 1.1//EN\"\n \"http://www.w3.org/Graphics/SVG/1.1/DTD/svg11.dtd\">\n<!-- Generated by graphviz version 2.40.1 (20161225.0304)\n -->\n<!-- Title: System&#45;0 Pages: 1 -->\n<svg width=\"557pt\" height=\"188pt\"\n viewBox=\"0.00 0.00 557.13 188.00\" xmlns=\"http://www.w3.org/2000/svg\" xmlns:xlink=\"http://www.w3.org/1999/xlink\">\n<g id=\"graph0\" class=\"graph\" transform=\"scale(1 1) rotate(0) translate(4 184)\">\n<title>System&#45;0</title>\n<polygon fill=\"#ffffff\" stroke=\"transparent\" points=\"-4,4 -4,-184 553.1332,-184 553.1332,4 -4,4\"/>\n<!-- TransferMechanism&#45;11 -->\n<g id=\"node1\" class=\"node\">\n<title>TransferMechanism&#45;11</title>\n<ellipse fill=\"none\" stroke=\"#00ff00\" stroke-width=\"3\" cx=\"85.5666\" cy=\"-18\" rx=\"85.6332\" ry=\"18\"/>\n<text text-anchor=\"middle\" x=\"85.5666\" y=\"-14.9\" font-family=\"arial\" font-size=\"12.00\" fill=\"#000000\">TransferMechanism&#45;11</text>\n</g>\n<!-- TransferMechanism&#45;14 -->\n<g id=\"node2\" class=\"node\">\n<title>TransferMechanism&#45;14</title>\n<ellipse fill=\"none\" stroke=\"#000000\" cx=\"274.5666\" cy=\"-90\" rx=\"85.6332\" ry=\"18\"/>\n<text text-anchor=\"middle\" x=\"274.5666\" y=\"-86.9\" font-family=\"arial\" font-size=\"12.00\" fill=\"#000000\">TransferMechanism&#45;14</text>\n</g>\n<!-- TransferMechanism&#45;11&#45;&gt;TransferMechanism&#45;14 -->\n<g id=\"edge2\" class=\"edge\">\n<title>TransferMechanism&#45;11&#45;&gt;TransferMechanism&#45;14</title>\n<path fill=\"none\" stroke=\"#000000\" d=\"M127.0434,-33.8007C155.4782,-44.633 193.3828,-59.0728 223.6497,-70.6031\"/>\n<polygon fill=\"#000000\" stroke=\"#000000\" points=\"222.5956,-73.9468 233.1865,-74.2362 225.0876,-67.4054 222.5956,-73.9468\"/>\n</g>\n<!-- TransferMechanism&#45;15 -->\n<g id=\"node5\" class=\"node\">\n<title>TransferMechanism&#45;15</title>\n<ellipse fill=\"none\" stroke=\"#ff0000\" stroke-width=\"3\" cx=\"274.5666\" cy=\"-162\" rx=\"85.6332\" ry=\"18\"/>\n<text text-anchor=\"middle\" x=\"274.5666\" y=\"-158.9\" font-family=\"arial\" font-size=\"12.00\" fill=\"#000000\">TransferMechanism&#45;15</text>\n</g>\n<!-- TransferMechanism&#45;14&#45;&gt;TransferMechanism&#45;15 -->\n<g id=\"edge4\" class=\"edge\">\n<title>TransferMechanism&#45;14&#45;&gt;TransferMechanism&#45;15</title>\n<path fill=\"none\" stroke=\"#000000\" d=\"M274.5666,-108.1686C274.5666,-115.869 274.5666,-125.0257 274.5666,-133.5834\"/>\n<polygon fill=\"#000000\" stroke=\"#000000\" points=\"271.0667,-133.5867 274.5666,-143.5867 278.0667,-133.5868 271.0667,-133.5867\"/>\n</g>\n<!-- TransferMechanism&#45;13 -->\n<g id=\"node3\" class=\"node\">\n<title>TransferMechanism&#45;13</title>\n<ellipse fill=\"none\" stroke=\"#00ff00\" stroke-width=\"3\" cx=\"274.5666\" cy=\"-18\" rx=\"85.6332\" ry=\"18\"/>\n<text text-anchor=\"middle\" x=\"274.5666\" y=\"-14.9\" font-family=\"arial\" font-size=\"12.00\" fill=\"#000000\">TransferMechanism&#45;13</text>\n</g>\n<!-- TransferMechanism&#45;13&#45;&gt;TransferMechanism&#45;14 -->\n<g id=\"edge1\" class=\"edge\">\n<title>TransferMechanism&#45;13&#45;&gt;TransferMechanism&#45;14</title>\n<path fill=\"none\" stroke=\"#000000\" d=\"M274.5666,-36.1686C274.5666,-43.869 274.5666,-53.0257 274.5666,-61.5834\"/>\n<polygon fill=\"#000000\" stroke=\"#000000\" points=\"271.0667,-61.5867 274.5666,-71.5867 278.0667,-61.5868 271.0667,-61.5867\"/>\n</g>\n<!-- TransferMechanism&#45;12 -->\n<g id=\"node4\" class=\"node\">\n<title>TransferMechanism&#45;12</title>\n<ellipse fill=\"none\" stroke=\"#00ff00\" stroke-width=\"3\" cx=\"463.5666\" cy=\"-18\" rx=\"85.6332\" ry=\"18\"/>\n<text text-anchor=\"middle\" x=\"463.5666\" y=\"-14.9\" font-family=\"arial\" font-size=\"12.00\" fill=\"#000000\">TransferMechanism&#45;12</text>\n</g>\n<!-- TransferMechanism&#45;12&#45;&gt;TransferMechanism&#45;14 -->\n<g id=\"edge3\" class=\"edge\">\n<title>TransferMechanism&#45;12&#45;&gt;TransferMechanism&#45;14</title>\n<path fill=\"none\" stroke=\"#000000\" d=\"M422.0897,-33.8007C393.6549,-44.633 355.7504,-59.0728 325.4835,-70.6031\"/>\n<polygon fill=\"#000000\" stroke=\"#000000\" points=\"324.0456,-67.4054 315.9467,-74.2362 326.5376,-73.9468 324.0456,-67.4054\"/>\n</g>\n</g>\n</svg>\n"
          },
          "metadata": {
            "tags": []
          },
          "execution_count": 25
        }
      ]
    },
    {
      "metadata": {
        "id": "xHyl3b-qeZFJ",
        "colab_type": "text"
      },
      "cell_type": "markdown",
      "source": [
        "In the next cell we will run the model with inputs.  The \"ink_color\" and \"word\" are the same as the previous model, and the addition of task demand allows us to specify whether the task is to name the color of ink [0, 1], or to read the word [1, 0].  The output can be thought of as activation strengths of two possible responses [red, blue]. "
      ]
    },
    {
      "metadata": {
        "id": "u6wMI0tceZFK",
        "colab_type": "code",
        "outputId": "ca9e5e96-6df6-49f0-c7b9-84a279107b06",
        "colab": {
          "base_uri": "https://localhost:8080/",
          "height": 1292
        }
      },
      "cell_type": "code",
      "source": [
        "input_dict = {ink_color: [1, 0],\n",
        "              word: [1, 0],\n",
        "              task_demand: [0, 1]}\n",
        "stroop_model.run(input_dict)"
      ],
      "execution_count": 26,
      "outputs": [
        {
          "output_type": "stream",
          "text": [
            "\n",
            "'TransferMechanism-12'  executed:\n",
            "- input:  [array([1., 0.])]\n",
            "- params:\n",
            "\tconvergence_criterion: 0.01\n",
            "\tconvergence_function: Distance Function-2\n",
            "\t\tintercept: 0.0\n",
            "\t\tslope: 1.0\n",
            "\tfunction: Linear Function-186\n",
            "\t\tintercept: 0.0\n",
            "\t\tslope: 1.0\n",
            "\tinitial_value: None\n",
            "\tintegration_rate: 0.5\n",
            "\tintegrator_mode: False\n",
            "\tmax_passes: 1000\n",
            "\tnoise: 0.\n",
            "- output: 0.0 0.0\n",
            "\n",
            "'TransferMechanism-11'  executed:\n",
            "- input:  [array([1., 0.])]\n",
            "- params:\n",
            "\tconvergence_criterion: 0.01\n",
            "\tconvergence_function: Distance Function-2\n",
            "\t\tintercept: 0.0\n",
            "\t\tslope: 1.0\n",
            "\tfunction: Linear Function-176\n",
            "\t\tintercept: 0.0\n",
            "\t\tslope: 1.0\n",
            "\tinitial_value: None\n",
            "\tintegration_rate: 0.5\n",
            "\tintegrator_mode: False\n",
            "\tmax_passes: 1000\n",
            "\tnoise: 0.\n",
            "- output: 0.0 0.0\n",
            "\n",
            "'TransferMechanism-13'  executed:\n",
            "- input:  [array([0., 1.])]\n",
            "- params:\n",
            "\tconvergence_criterion: 0.01\n",
            "\tconvergence_function: Distance Function-2\n",
            "\t\tintercept: 0.0\n",
            "\t\tslope: 1.0\n",
            "\tfunction: Linear Function-196\n",
            "\t\tintercept: 0.0\n",
            "\t\tslope: 1.0\n",
            "\tinitial_value: None\n",
            "\tintegration_rate: 0.5\n",
            "\tintegrator_mode: False\n",
            "\tmax_passes: 1000\n",
            "\tnoise: 0.\n",
            "- output: 0.0 0.0\n",
            "\n",
            "'TransferMechanism-14'  executed:\n",
            "- input:  [array([ 2.2, -2.2,  6.6,  1.4])]\n",
            "- params:\n",
            "\tconvergence_criterion: 0.01\n",
            "\tconvergence_function: Distance Function-2\n",
            "\t\tbias: -4\n",
            "\t\tgain: 1.0\n",
            "\t\toffset: 0.0\n",
            "\t\tscale: 1.0\n",
            "\t\tx_0: 0.0\n",
            "\tfunction: Logistic Function-11\n",
            "\t\tbias: -4\n",
            "\t\tgain: 1.0\n",
            "\t\toffset: 0.0\n",
            "\t\tscale: 1.0\n",
            "\t\tx_0: 0.0\n",
            "\tinitial_value: None\n",
            "\tintegration_rate: 0.5\n",
            "\tintegrator_mode: False\n",
            "\tmax_passes: 1000\n",
            "\tnoise: 0.\n",
            "- output: 0.018 0.018 0.018 0.018\n"
          ],
          "name": "stdout"
        },
        {
          "output_type": "execute_result",
          "data": {
            "text/plain": [
              "[[array([ 2.33608137, -2.33608137])]]"
            ]
          },
          "metadata": {
            "tags": []
          },
          "execution_count": 26
        }
      ]
    },
    {
      "metadata": {
        "id": "EwXWq0SKeZFP",
        "colab_type": "text"
      },
      "cell_type": "markdown",
      "source": [
        "# Constructing Processes & Systems\n",
        "\n",
        "As shown in the Stroop models above, mechanisms are the building blocks in PsyNeuLink, and projections are how these building blocks get connected.  The configuration of mechanisms connected by processes largely determine how information will flow and be processed within each model.  Next we'll explore how to build models with different configurations of mechanisms and projections, along with generating diagrams that visualize these configurations.           \n"
      ]
    },
    {
      "metadata": {
        "id": "mEct8rkmeZFP",
        "colab_type": "code",
        "outputId": "30b1b9e0-b862-40f6-e181-893403b4f32c",
        "colab": {
          "base_uri": "https://localhost:8080/",
          "height": 176
        }
      },
      "cell_type": "code",
      "source": [
        "input_layer = pnl.TransferMechanism(\n",
        "    name='input_layer',\n",
        "    function=pnl.Linear,\n",
        "    default_variable=np.ones((4,)),\n",
        ")\n",
        "\n",
        "output_layer = pnl.TransferMechanism(\n",
        "    name='output_layer',\n",
        "    function=pnl.Linear,\n",
        "    default_variable=np.ones((4,)),\n",
        ")\n",
        "\n",
        "simple_process1 = pnl.Process(pathway=[input_layer, output_layer])\n",
        "\n",
        "simple_system1 = pnl.System(\n",
        "    processes=[simple_process1])\n",
        "\n",
        "input_layer.reportOutputPref = True\n",
        "output_layer.reportOutputPref = True\n",
        "\n",
        "simple_system1.show_graph(output_fmt = 'jupyter')"
      ],
      "execution_count": 27,
      "outputs": [
        {
          "output_type": "execute_result",
          "data": {
            "text/plain": [
              "<graphviz.dot.Digraph at 0x7f66b0cf7978>"
            ],
            "image/svg+xml": "<?xml version=\"1.0\" encoding=\"UTF-8\" standalone=\"no\"?>\n<!DOCTYPE svg PUBLIC \"-//W3C//DTD SVG 1.1//EN\"\n \"http://www.w3.org/Graphics/SVG/1.1/DTD/svg11.dtd\">\n<!-- Generated by graphviz version 2.40.1 (20161225.0304)\n -->\n<!-- Title: System&#45;1 Pages: 1 -->\n<svg width=\"110pt\" height=\"116pt\"\n viewBox=\"0.00 0.00 110.19 116.00\" xmlns=\"http://www.w3.org/2000/svg\" xmlns:xlink=\"http://www.w3.org/1999/xlink\">\n<g id=\"graph0\" class=\"graph\" transform=\"scale(1 1) rotate(0) translate(4 112)\">\n<title>System&#45;1</title>\n<polygon fill=\"#ffffff\" stroke=\"transparent\" points=\"-4,4 -4,-112 106.1874,-112 106.1874,4 -4,4\"/>\n<!-- input_layer -->\n<g id=\"node1\" class=\"node\">\n<title>input_layer</title>\n<ellipse fill=\"none\" stroke=\"#00ff00\" stroke-width=\"3\" cx=\"51.0937\" cy=\"-18\" rx=\"46.5702\" ry=\"18\"/>\n<text text-anchor=\"middle\" x=\"51.0937\" y=\"-14.9\" font-family=\"arial\" font-size=\"12.00\" fill=\"#000000\">input_layer</text>\n</g>\n<!-- output_layer -->\n<g id=\"node2\" class=\"node\">\n<title>output_layer</title>\n<ellipse fill=\"none\" stroke=\"#ff0000\" stroke-width=\"3\" cx=\"51.0937\" cy=\"-90\" rx=\"51.1876\" ry=\"18\"/>\n<text text-anchor=\"middle\" x=\"51.0937\" y=\"-86.9\" font-family=\"arial\" font-size=\"12.00\" fill=\"#000000\">output_layer</text>\n</g>\n<!-- input_layer&#45;&gt;output_layer -->\n<g id=\"edge1\" class=\"edge\">\n<title>input_layer&#45;&gt;output_layer</title>\n<path fill=\"none\" stroke=\"#000000\" d=\"M51.0937,-36.1686C51.0937,-43.869 51.0937,-53.0257 51.0937,-61.5834\"/>\n<polygon fill=\"#000000\" stroke=\"#000000\" points=\"47.5938,-61.5867 51.0937,-71.5867 54.5938,-61.5868 47.5938,-61.5867\"/>\n</g>\n</g>\n</svg>\n"
          },
          "metadata": {
            "tags": []
          },
          "execution_count": 27
        }
      ]
    },
    {
      "metadata": {
        "id": "BeoZEiUSeZFS",
        "colab_type": "code",
        "outputId": "41a04652-3b82-4753-bba0-473936181869",
        "colab": {
          "base_uri": "https://localhost:8080/",
          "height": 272
        }
      },
      "cell_type": "code",
      "source": [
        "input_layer2 = pnl.TransferMechanism(\n",
        "    name='input_layer2',\n",
        "    function=pnl.Linear,\n",
        "    default_variable=np.ones((4,)),\n",
        ")\n",
        "\n",
        "\n",
        "hidden_layer2 = pnl.TransferMechanism(\n",
        "    name='hidden_layer2',\n",
        "    function=pnl.Linear,\n",
        "    default_variable=np.ones((4,)),\n",
        ")\n",
        "\n",
        "output_layer2 = pnl.TransferMechanism(\n",
        "    name='output_layer2',\n",
        "    function=pnl.Linear,\n",
        "    default_variable=np.ones((4,)),\n",
        ")\n",
        "\n",
        "simple_process2 = pnl.Process(pathway=[input_layer2, hidden_layer2, output_layer2])\n",
        "\n",
        "simple_system2 = pnl.System(processes=[simple_process2])\n",
        "\n",
        "## the previous two lines of code builiding a 3 layer system could alternatively take the following form:\n",
        "\n",
        "# simple_process2a = process(pathway=[input_layer2, hidden_layer2])\n",
        "# simple_process2b = process(pathway=[hidden_layer2, output_layer2])\n",
        "#\n",
        "# simple_system2 = system(processes=[simple_process2a, simple_process2b])\n",
        "\n",
        "\n",
        "input_layer2.reportOutputPref = True\n",
        "hidden_layer2.reportOutputPref = True\n",
        "output_layer2.reportOutputPref = True\n",
        "\n",
        "simple_system2.show_graph(output_fmt = 'jupyter')"
      ],
      "execution_count": 28,
      "outputs": [
        {
          "output_type": "execute_result",
          "data": {
            "text/plain": [
              "<graphviz.dot.Digraph at 0x7f66b0b2b550>"
            ],
            "image/svg+xml": "<?xml version=\"1.0\" encoding=\"UTF-8\" standalone=\"no\"?>\n<!DOCTYPE svg PUBLIC \"-//W3C//DTD SVG 1.1//EN\"\n \"http://www.w3.org/Graphics/SVG/1.1/DTD/svg11.dtd\">\n<!-- Generated by graphviz version 2.40.1 (20161225.0304)\n -->\n<!-- Title: System&#45;2 Pages: 1 -->\n<svg width=\"122pt\" height=\"188pt\"\n viewBox=\"0.00 0.00 122.50 188.00\" xmlns=\"http://www.w3.org/2000/svg\" xmlns:xlink=\"http://www.w3.org/1999/xlink\">\n<g id=\"graph0\" class=\"graph\" transform=\"scale(1 1) rotate(0) translate(4 184)\">\n<title>System&#45;2</title>\n<polygon fill=\"#ffffff\" stroke=\"transparent\" points=\"-4,4 -4,-184 118.4992,-184 118.4992,4 -4,4\"/>\n<!-- input_layer2 -->\n<g id=\"node1\" class=\"node\">\n<title>input_layer2</title>\n<ellipse fill=\"none\" stroke=\"#00ff00\" stroke-width=\"3\" cx=\"57.2496\" cy=\"-18\" rx=\"51.1876\" ry=\"18\"/>\n<text text-anchor=\"middle\" x=\"57.2496\" y=\"-14.9\" font-family=\"arial\" font-size=\"12.00\" fill=\"#000000\">input_layer2</text>\n</g>\n<!-- hidden_layer2 -->\n<g id=\"node2\" class=\"node\">\n<title>hidden_layer2</title>\n<ellipse fill=\"none\" stroke=\"#000000\" cx=\"57.2496\" cy=\"-90\" rx=\"57.5003\" ry=\"18\"/>\n<text text-anchor=\"middle\" x=\"57.2496\" y=\"-86.9\" font-family=\"arial\" font-size=\"12.00\" fill=\"#000000\">hidden_layer2</text>\n</g>\n<!-- input_layer2&#45;&gt;hidden_layer2 -->\n<g id=\"edge1\" class=\"edge\">\n<title>input_layer2&#45;&gt;hidden_layer2</title>\n<path fill=\"none\" stroke=\"#000000\" d=\"M57.2496,-36.1686C57.2496,-43.869 57.2496,-53.0257 57.2496,-61.5834\"/>\n<polygon fill=\"#000000\" stroke=\"#000000\" points=\"53.7497,-61.5867 57.2496,-71.5867 60.7497,-61.5868 53.7497,-61.5867\"/>\n</g>\n<!-- output_layer2 -->\n<g id=\"node3\" class=\"node\">\n<title>output_layer2</title>\n<ellipse fill=\"none\" stroke=\"#ff0000\" stroke-width=\"3\" cx=\"57.2496\" cy=\"-162\" rx=\"54.5753\" ry=\"18\"/>\n<text text-anchor=\"middle\" x=\"57.2496\" y=\"-158.9\" font-family=\"arial\" font-size=\"12.00\" fill=\"#000000\">output_layer2</text>\n</g>\n<!-- hidden_layer2&#45;&gt;output_layer2 -->\n<g id=\"edge2\" class=\"edge\">\n<title>hidden_layer2&#45;&gt;output_layer2</title>\n<path fill=\"none\" stroke=\"#000000\" d=\"M57.2496,-108.1686C57.2496,-115.869 57.2496,-125.0257 57.2496,-133.5834\"/>\n<polygon fill=\"#000000\" stroke=\"#000000\" points=\"53.7497,-133.5867 57.2496,-143.5867 60.7497,-133.5868 53.7497,-133.5867\"/>\n</g>\n</g>\n</svg>\n"
          },
          "metadata": {
            "tags": []
          },
          "execution_count": 28
        }
      ]
    },
    {
      "metadata": {
        "id": "fODzHS8QeZFX",
        "colab_type": "code",
        "outputId": "dab015b2-5d14-48ea-a5dc-9312555e315e",
        "colab": {
          "base_uri": "https://localhost:8080/",
          "height": 176
        }
      },
      "cell_type": "code",
      "source": [
        "input_layer3 = pnl.TransferMechanism(\n",
        "    name='input_layer3',\n",
        "    function=pnl.Linear,\n",
        "    default_variable=np.ones((4,)),\n",
        ")\n",
        "\n",
        "\n",
        "hidden_layer3a = pnl.TransferMechanism(\n",
        "    name='hidden_layer3a',\n",
        "    function=pnl.Linear,\n",
        "    default_variable=np.ones((4,)),\n",
        ")\n",
        "\n",
        "hidden_layer3b = pnl.TransferMechanism(\n",
        "    name='hidden_layer3b',\n",
        "    function=pnl.Linear,\n",
        "    default_variable=np.ones((4,)),\n",
        ")\n",
        "\n",
        "output_layer3 = pnl.TransferMechanism(\n",
        "    name='output_layer3',\n",
        "    function=pnl.Linear,\n",
        "    default_variable=np.ones((4,)),\n",
        ")\n",
        "\n",
        "simple_process3a = pnl.Process(pathway=[input_layer3, hidden_layer3a])\n",
        "simple_process3b = pnl.Process(pathway=[hidden_layer3a, hidden_layer3b])\n",
        "simple_process3c = pnl.Process(pathway=[hidden_layer3b, hidden_layer3a])\n",
        "simple_process3d = pnl.Process(pathway=[hidden_layer3a, hidden_layer3b])\n",
        "simple_process3e = pnl.Process(pathway=[hidden_layer3b, output_layer3])\n",
        "\n",
        "\n",
        "simple_system3 = pnl.System(processes=[simple_process3a, simple_process3b, simple_process3c, simple_process3d, simple_process3e])\n",
        "\n",
        "input_layer3.reportOutputPref = True\n",
        "hidden_layer3a.reportOutputPref = True\n",
        "hidden_layer3b.reportOutputPref = True\n",
        "output_layer3.reportOutputPref = True\n",
        "\n",
        "simple_system3.show_graph(output_fmt = 'jupyter')"
      ],
      "execution_count": 29,
      "outputs": [
        {
          "output_type": "execute_result",
          "data": {
            "text/plain": [
              "<graphviz.dot.Digraph at 0x7f66b0888cc0>"
            ],
            "image/svg+xml": "<?xml version=\"1.0\" encoding=\"UTF-8\" standalone=\"no\"?>\n<!DOCTYPE svg PUBLIC \"-//W3C//DTD SVG 1.1//EN\"\n \"http://www.w3.org/Graphics/SVG/1.1/DTD/svg11.dtd\">\n<!-- Generated by graphviz version 2.40.1 (20161225.0304)\n -->\n<!-- Title: System&#45;3 Pages: 1 -->\n<svg width=\"313pt\" height=\"116pt\"\n viewBox=\"0.00 0.00 312.88 116.00\" xmlns=\"http://www.w3.org/2000/svg\" xmlns:xlink=\"http://www.w3.org/1999/xlink\">\n<g id=\"graph0\" class=\"graph\" transform=\"scale(1 1) rotate(0) translate(4 112)\">\n<title>System&#45;3</title>\n<polygon fill=\"#ffffff\" stroke=\"transparent\" points=\"-4,4 -4,-112 308.881,-112 308.881,4 -4,4\"/>\n<!-- hidden_layer3b -->\n<g id=\"node1\" class=\"node\">\n<title>hidden_layer3b</title>\n<ellipse fill=\"none\" stroke=\"#00ff00\" stroke-width=\"3\" cx=\"182.0937\" cy=\"-18\" rx=\"61.6175\" ry=\"18\"/>\n<text text-anchor=\"middle\" x=\"182.0937\" y=\"-14.9\" font-family=\"arial\" font-size=\"12.00\" fill=\"#000000\">hidden_layer3b</text>\n</g>\n<!-- hidden_layer3a -->\n<g id=\"node2\" class=\"node\">\n<title>hidden_layer3a</title>\n<ellipse fill=\"none\" stroke=\"#000000\" cx=\"116.0937\" cy=\"-90\" rx=\"61.6175\" ry=\"18\"/>\n<text text-anchor=\"middle\" x=\"116.0937\" y=\"-86.9\" font-family=\"arial\" font-size=\"12.00\" fill=\"#000000\">hidden_layer3a</text>\n</g>\n<!-- hidden_layer3b&#45;&gt;hidden_layer3a -->\n<g id=\"edge3\" class=\"edge\">\n<title>hidden_layer3b&#45;&gt;hidden_layer3a</title>\n<path fill=\"none\" stroke=\"#000000\" d=\"M160.6127,-35.063C151.7077,-43.7698 141.6121,-54.5426 133.2097,-64.2356\"/>\n<polygon fill=\"#000000\" stroke=\"#000000\" points=\"130.3862,-62.1545 126.6131,-72.0547 135.7365,-66.6683 130.3862,-62.1545\"/>\n</g>\n<!-- output_layer3 -->\n<g id=\"node4\" class=\"node\">\n<title>output_layer3</title>\n<ellipse fill=\"none\" stroke=\"#ff0000\" stroke-width=\"3\" cx=\"250.0937\" cy=\"-90\" rx=\"54.5753\" ry=\"18\"/>\n<text text-anchor=\"middle\" x=\"250.0937\" y=\"-86.9\" font-family=\"arial\" font-size=\"12.00\" fill=\"#000000\">output_layer3</text>\n</g>\n<!-- hidden_layer3b&#45;&gt;output_layer3 -->\n<g id=\"edge4\" class=\"edge\">\n<title>hidden_layer3b&#45;&gt;output_layer3</title>\n<path fill=\"none\" stroke=\"#000000\" d=\"M198.5546,-35.4292C206.9907,-44.3615 217.4106,-55.3944 226.6687,-65.1971\"/>\n<polygon fill=\"#000000\" stroke=\"#000000\" points=\"224.3736,-67.8643 233.7844,-72.7313 229.4627,-63.058 224.3736,-67.8643\"/>\n</g>\n<!-- hidden_layer3a&#45;&gt;hidden_layer3b -->\n<g id=\"edge1\" class=\"edge\">\n<title>hidden_layer3a&#45;&gt;hidden_layer3b</title>\n<path fill=\"none\" stroke=\"#000000\" d=\"M137.6097,-72.9028C146.5475,-64.1616 156.6799,-53.3448 165.0945,-43.6296\"/>\n<polygon fill=\"#000000\" stroke=\"#000000\" points=\"167.9269,-45.7 171.6948,-35.7978 162.5742,-41.189 167.9269,-45.7\"/>\n</g>\n<!-- input_layer3 -->\n<g id=\"node3\" class=\"node\">\n<title>input_layer3</title>\n<ellipse fill=\"none\" stroke=\"#00ff00\" stroke-width=\"3\" cx=\"51.0937\" cy=\"-18\" rx=\"51.1876\" ry=\"18\"/>\n<text text-anchor=\"middle\" x=\"51.0937\" y=\"-14.9\" font-family=\"arial\" font-size=\"12.00\" fill=\"#000000\">input_layer3</text>\n</g>\n<!-- input_layer3&#45;&gt;hidden_layer3a -->\n<g id=\"edge2\" class=\"edge\">\n<title>input_layer3&#45;&gt;hidden_layer3a</title>\n<path fill=\"none\" stroke=\"#000000\" d=\"M66.8284,-35.4292C74.833,-44.2959 84.7061,-55.2322 93.5068,-64.9806\"/>\n<polygon fill=\"#000000\" stroke=\"#000000\" points=\"90.9796,-67.4044 100.2786,-72.4818 96.1755,-62.7137 90.9796,-67.4044\"/>\n</g>\n</g>\n</svg>\n"
          },
          "metadata": {
            "tags": []
          },
          "execution_count": 29
        }
      ]
    },
    {
      "metadata": {
        "id": "efnXvdUAeZFb",
        "colab_type": "code",
        "outputId": "c3f627a4-0862-4508-c0db-70abf2d965a5",
        "colab": {
          "base_uri": "https://localhost:8080/",
          "height": 340
        }
      },
      "cell_type": "code",
      "source": [
        "simple_system3.show()"
      ],
      "execution_count": 30,
      "outputs": [
        {
          "output_type": "stream",
          "text": [
            "\n",
            "---------------------------------------------------------\n",
            "\n",
            "System-3\n",
            "\n",
            "\tControl enabled: False\n",
            "\n",
            "\tProcesses:\n",
            "\t\tProcess-9 [learning enabled: False]\n",
            "\t\tProcess-10 [learning enabled: False]\n",
            "\t\tProcess-11 [learning enabled: False]\n",
            "\t\tProcess-12 [learning enabled: False]\n",
            "\t\tProcess-13 [learning enabled: False]\n",
            "\n",
            "\tExecution sets: \n",
            "\t\tSet 0:\n",
            "\t\t\t{ hidden_layer3b input_layer3 }\n",
            "\t\tSet 1:\n",
            "\t\t\t{ hidden_layer3a output_layer3 }\n"
          ],
          "name": "stdout"
        }
      ]
    },
    {
      "metadata": {
        "id": "63o4T5wdeZFe",
        "colab_type": "code",
        "outputId": "01243f68-8e4c-45db-efe6-8a8ce86da98a",
        "colab": {
          "base_uri": "https://localhost:8080/",
          "height": 272
        }
      },
      "cell_type": "code",
      "source": [
        "input_layer4 = pnl.TransferMechanism(\n",
        "    name='input_layer4',\n",
        "    function=pnl.Linear,\n",
        "    default_variable=np.ones((4,)),\n",
        ")\n",
        "\n",
        "hidden_layer4a = pnl.TransferMechanism(\n",
        "    name='hidden_layer4a',\n",
        "    function=pnl.Linear,\n",
        "    default_variable=np.ones((4,)),\n",
        ")\n",
        "\n",
        "hidden_layer4b = pnl.TransferMechanism(\n",
        "    name='hidden_layer4b',\n",
        "    function=pnl.Linear,\n",
        "    default_variable=np.ones((4,)),\n",
        ")\n",
        "\n",
        "hidden_layer4c = pnl.TransferMechanism(\n",
        "    name='hidden_layer4c',\n",
        "    function=pnl.Linear,\n",
        "    default_variable=np.ones((4,)),\n",
        ")\n",
        "\n",
        "output_layer4 = pnl.TransferMechanism(\n",
        "    name='output_layer4',\n",
        "    function=pnl.Linear,\n",
        "    default_variable=np.ones((4,)),\n",
        ")\n",
        "\n",
        "simple_process4a = pnl.Process(pathway=[input_layer4, hidden_layer4a, output_layer4])\n",
        "simple_process4b = pnl.Process(pathway=[input_layer4, hidden_layer4b, output_layer4])\n",
        "simple_process4c = pnl.Process(pathway=[input_layer4, hidden_layer4c, output_layer4])\n",
        "\n",
        "\n",
        "simple_system4 = pnl.System(processes=[simple_process4a, simple_process4b, simple_process4c])\n",
        "\n",
        "input_layer4.reportOutputPref = True\n",
        "hidden_layer4a.reportOutputPref = True\n",
        "hidden_layer4b.reportOutputPref = True\n",
        "hidden_layer4c.reportOutputPref = True\n",
        "output_layer4.reportOutputPref = True\n",
        "\n",
        "simple_system4.show_graph(output_fmt = 'jupyter')"
      ],
      "execution_count": 31,
      "outputs": [
        {
          "output_type": "execute_result",
          "data": {
            "text/plain": [
              "<graphviz.dot.Digraph at 0x7f66b05b8780>"
            ],
            "image/svg+xml": "<?xml version=\"1.0\" encoding=\"UTF-8\" standalone=\"no\"?>\n<!DOCTYPE svg PUBLIC \"-//W3C//DTD SVG 1.1//EN\"\n \"http://www.w3.org/Graphics/SVG/1.1/DTD/svg11.dtd\">\n<!-- Generated by graphviz version 2.40.1 (20161225.0304)\n -->\n<!-- Title: System&#45;4 Pages: 1 -->\n<svg width=\"413pt\" height=\"188pt\"\n viewBox=\"0.00 0.00 413.12 188.00\" xmlns=\"http://www.w3.org/2000/svg\" xmlns:xlink=\"http://www.w3.org/1999/xlink\">\n<g id=\"graph0\" class=\"graph\" transform=\"scale(1 1) rotate(0) translate(4 184)\">\n<title>System&#45;4</title>\n<polygon fill=\"#ffffff\" stroke=\"transparent\" points=\"-4,4 -4,-184 409.1174,-184 409.1174,4 -4,4\"/>\n<!-- input_layer4 -->\n<g id=\"node1\" class=\"node\">\n<title>input_layer4</title>\n<ellipse fill=\"none\" stroke=\"#00ff00\" stroke-width=\"3\" cx=\"202.5587\" cy=\"-18\" rx=\"51.1876\" ry=\"18\"/>\n<text text-anchor=\"middle\" x=\"202.5587\" y=\"-14.9\" font-family=\"arial\" font-size=\"12.00\" fill=\"#000000\">input_layer4</text>\n</g>\n<!-- hidden_layer4a -->\n<g id=\"node2\" class=\"node\">\n<title>hidden_layer4a</title>\n<ellipse fill=\"none\" stroke=\"#000000\" cx=\"61.5587\" cy=\"-90\" rx=\"61.6175\" ry=\"18\"/>\n<text text-anchor=\"middle\" x=\"61.5587\" y=\"-86.9\" font-family=\"arial\" font-size=\"12.00\" fill=\"#000000\">hidden_layer4a</text>\n</g>\n<!-- input_layer4&#45;&gt;hidden_layer4a -->\n<g id=\"edge1\" class=\"edge\">\n<title>input_layer4&#45;&gt;hidden_layer4a</title>\n<path fill=\"none\" stroke=\"#000000\" d=\"M173.3434,-32.9184C152.5001,-43.5619 124.2231,-58.0012 101.3246,-69.694\"/>\n<polygon fill=\"#000000\" stroke=\"#000000\" points=\"99.5141,-66.6886 92.1998,-74.3535 102.6976,-72.9228 99.5141,-66.6886\"/>\n</g>\n<!-- hidden_layer4c -->\n<g id=\"node4\" class=\"node\">\n<title>hidden_layer4c</title>\n<ellipse fill=\"none\" stroke=\"#000000\" cx=\"202.5587\" cy=\"-90\" rx=\"60.8863\" ry=\"18\"/>\n<text text-anchor=\"middle\" x=\"202.5587\" y=\"-86.9\" font-family=\"arial\" font-size=\"12.00\" fill=\"#000000\">hidden_layer4c</text>\n</g>\n<!-- input_layer4&#45;&gt;hidden_layer4c -->\n<g id=\"edge6\" class=\"edge\">\n<title>input_layer4&#45;&gt;hidden_layer4c</title>\n<path fill=\"none\" stroke=\"#000000\" d=\"M202.5587,-36.1686C202.5587,-43.869 202.5587,-53.0257 202.5587,-61.5834\"/>\n<polygon fill=\"#000000\" stroke=\"#000000\" points=\"199.0588,-61.5867 202.5587,-71.5867 206.0588,-61.5868 199.0588,-61.5867\"/>\n</g>\n<!-- hidden_layer4b -->\n<g id=\"node5\" class=\"node\">\n<title>hidden_layer4b</title>\n<ellipse fill=\"none\" stroke=\"#000000\" cx=\"343.5587\" cy=\"-90\" rx=\"61.6175\" ry=\"18\"/>\n<text text-anchor=\"middle\" x=\"343.5587\" y=\"-86.9\" font-family=\"arial\" font-size=\"12.00\" fill=\"#000000\">hidden_layer4b</text>\n</g>\n<!-- input_layer4&#45;&gt;hidden_layer4b -->\n<g id=\"edge5\" class=\"edge\">\n<title>input_layer4&#45;&gt;hidden_layer4b</title>\n<path fill=\"none\" stroke=\"#000000\" d=\"M231.774,-32.9184C252.6173,-43.5619 280.8943,-58.0012 303.7928,-69.694\"/>\n<polygon fill=\"#000000\" stroke=\"#000000\" points=\"302.4198,-72.9228 312.9176,-74.3535 305.6033,-66.6886 302.4198,-72.9228\"/>\n</g>\n<!-- output_layer4 -->\n<g id=\"node3\" class=\"node\">\n<title>output_layer4</title>\n<ellipse fill=\"none\" stroke=\"#ff0000\" stroke-width=\"3\" cx=\"202.5587\" cy=\"-162\" rx=\"54.5753\" ry=\"18\"/>\n<text text-anchor=\"middle\" x=\"202.5587\" y=\"-158.9\" font-family=\"arial\" font-size=\"12.00\" fill=\"#000000\">output_layer4</text>\n</g>\n<!-- hidden_layer4a&#45;&gt;output_layer4 -->\n<g id=\"edge2\" class=\"edge\">\n<title>hidden_layer4a&#45;&gt;output_layer4</title>\n<path fill=\"none\" stroke=\"#000000\" d=\"M92.1536,-105.6229C113.0825,-116.31 141.0073,-130.5695 163.5358,-142.0734\"/>\n<polygon fill=\"#000000\" stroke=\"#000000\" points=\"162.0101,-145.2242 172.5079,-146.6549 165.1936,-138.99 162.0101,-145.2242\"/>\n</g>\n<!-- hidden_layer4c&#45;&gt;output_layer4 -->\n<g id=\"edge3\" class=\"edge\">\n<title>hidden_layer4c&#45;&gt;output_layer4</title>\n<path fill=\"none\" stroke=\"#000000\" d=\"M202.5587,-108.1686C202.5587,-115.869 202.5587,-125.0257 202.5587,-133.5834\"/>\n<polygon fill=\"#000000\" stroke=\"#000000\" points=\"199.0588,-133.5867 202.5587,-143.5867 206.0588,-133.5868 199.0588,-133.5867\"/>\n</g>\n<!-- hidden_layer4b&#45;&gt;output_layer4 -->\n<g id=\"edge4\" class=\"edge\">\n<title>hidden_layer4b&#45;&gt;output_layer4</title>\n<path fill=\"none\" stroke=\"#000000\" d=\"M312.9638,-105.6229C292.0349,-116.31 264.1101,-130.5695 241.5816,-142.0734\"/>\n<polygon fill=\"#000000\" stroke=\"#000000\" points=\"239.9238,-138.99 232.6095,-146.6549 243.1073,-145.2242 239.9238,-138.99\"/>\n</g>\n</g>\n</svg>\n"
          },
          "metadata": {
            "tags": []
          },
          "execution_count": 31
        }
      ]
    },
    {
      "metadata": {
        "id": "vLnYW_9QeZFi",
        "colab_type": "text"
      },
      "cell_type": "markdown",
      "source": [
        "### [End of Tutorial]\n",
        "\n",
        "\n",
        "## Problem 1. Configure a System \n",
        "\n",
        "In order to gain more familiarity with how systems are configured, you should initialize a system and recreate the following graph as an output.  You can achieve this by copying the code used above and modifying it for this new purpose. \n",
        "\n",
        "![alt text](Lab1_GraphFig.png \"GraphFigure\")\n"
      ]
    },
    {
      "metadata": {
        "id": "xLvVuTobeZFm",
        "colab_type": "text"
      },
      "cell_type": "markdown",
      "source": [
        "# Dynamic Systems & Bistable Perception\n",
        "\n",
        "There are many different ways to configure and run a model.  From the previous examples you should have a sense of how to build different configurations for a model.  In the next section we are going to explore some **dynamics** of running a model, including how information flows and is modified over time.  We will be building up to a simple model of bistable perception for a figure that people can readily interpret in two different ways.    \n",
        "\n",
        "![alt text](Lab1_duckrabbit_Necker.png \"Bistable\")\n",
        "\n",
        "Two classic examples of bistable figures are the \"Duck Rabbit\" seen as either of two animals (but not usually both simultaneously), and the Necker Cube, where the face of the cube that you initially see as closest to you can alternatively be interpretted as farthest away from you.  We are going to work toward a Model of settling on one interpretation of the Necker Cube, after first exploring some simple dynamic models.\n",
        "\n",
        "## Dynamics 1: Attractor State\n",
        "\n",
        "The following code creates a system with two mechanisms that are mutually connected by weights of -1. The output of one mechanism is multiplied by -1 and given as the input to the next mechanism, in a repeating cycle.  We can specify initial input values for each mechanism and watch it evolve over time.  \n",
        "\n",
        "This particular mechanism will evolve toward stable values of 1 and -1.  The values 1 and -1 are determined by the difference between the initial inputs.  If the inputs are X and Y, this system will always evolve to +/-abs[X-Y]/3 (plus & minus the absolute value of the difference between the two inputs, divided by 3).  Whichever mechanism receives the larger initial input evolves to the positive value, while the smaller initial input evolves to the negative value.      "
      ]
    },
    {
      "metadata": {
        "id": "AKWkMEpV44ja",
        "colab_type": "code",
        "colab": {
          "base_uri": "https://localhost:8080/",
          "height": 2924
        },
        "outputId": "2c3059c9-9c06-4064-b177-719117ed88ad"
      },
      "cell_type": "code",
      "source": [
        "comp1 = pnl.Composition()\n",
        "\n",
        "node1 = pnl.TransferMechanism(\n",
        "    name='node1',\n",
        "    function=pnl.Linear(slope = 1, intercept = 0),\n",
        "    integrator_mode = True,\n",
        "    integration_rate = 0.5,\n",
        "    default_variable=np.zeros((1,)),\n",
        ")\n",
        "\n",
        "# Integrator function ((1-smoothing_factor)*previous_value + smoothing_factor*current_input) * mechanism_function\n",
        "\n",
        "node2 = pnl.TransferMechanism(\n",
        "    name='node2',\n",
        "    function=pnl.Linear(slope = 1, intercept = 0),\n",
        "    integrator_mode = True,\n",
        "    integration_rate = 0.5,\n",
        "    default_variable=np.zeros((1,)),\n",
        ")\n",
        "\n",
        "connect_1_2 = ([-1])\n",
        "connect_2_1 = ([-1])\n",
        "\n",
        "weights_1_2 = pnl.MappingProjection(\n",
        "    name='connect_1_2',\n",
        "    matrix=connect_1_2,\n",
        ")\n",
        "\n",
        "weights_2_1 = pnl.MappingProjection(\n",
        "    name='connect_2_1',\n",
        "    matrix=connect_2_1,\n",
        ")\n",
        "\n",
        "#process1 = pnl.Process(pathway=[node1, weights_1_2, node2])\n",
        "#process2 = pnl.Process(pathway=[node2, weights_2_1, node1])\n",
        "\n",
        "#system1 = pnl.System(\n",
        "#    processes=[process1, process2]\n",
        "#)\n",
        "\n",
        "\n",
        "comp1.add_linear_processing_pathway(pathway = (node1, connect_1_2, node2, connect_2_1, node1))\n",
        "\n",
        "node1.reportOutputPref = True\n",
        "node2.reportOutputPref = True\n",
        "\n",
        "input1 = 2\n",
        "input2 = 5\n",
        "\n",
        "input_dict = {node1: [input1,0,0,0,0,0,0,0,0,0],\n",
        "             node2: [input2,0,0,0,0,0,0,0,0,0]\n",
        "             }\n",
        "\n",
        "#input_dict = {node1: [input1,1,1,1,1,1,1,1,1,1],\n",
        "#             node2: [input2,1,1,1,1,1,1,1,1,1]\n",
        "#             }\n",
        "\n",
        "comp1.run(input_dict, num_trials = 5)"
      ],
      "execution_count": 20,
      "outputs": [
        {
          "output_type": "stream",
          "text": [
            "\n",
            "'node2-12' mechanism executed:\n",
            "- input:  5.0\n",
            "- params:\n",
            "\tconvergence_criterion: 0.01\n",
            "\tconvergence_function: Distance Function-2\n",
            "\t\tintercept: 0\n",
            "\t\tslope: 1\n",
            "\tfunction: Linear Function-359\n",
            "\t\tintercept: 0\n",
            "\t\tslope: 1\n",
            "\tinitial_value: None\n",
            "\tintegration_rate: 0.5\n",
            "\tintegrator_mode: True\n",
            "\tmax_passes: 1000\n",
            "\tnoise: 0.\n",
            "- output: 0.0\n",
            "\n",
            "'node1-12' mechanism executed:\n",
            "- input:  2.0\n",
            "- params:\n",
            "\tconvergence_criterion: 0.01\n",
            "\tconvergence_function: Distance Function-2\n",
            "\t\tintercept: 0\n",
            "\t\tslope: 1\n",
            "\tfunction: Linear Function-349\n",
            "\t\tintercept: 0\n",
            "\t\tslope: 1\n",
            "\tinitial_value: None\n",
            "\tintegration_rate: 0.5\n",
            "\tintegrator_mode: True\n",
            "\tmax_passes: 1000\n",
            "\tnoise: 0.\n",
            "- output: 0.0\n",
            "\n",
            "'node2-12' mechanism executed:\n",
            "- input:  -1.0\n",
            "- params:\n",
            "\tconvergence_criterion: 0.01\n",
            "\tconvergence_function: Distance Function-2\n",
            "\t\tintercept: 0\n",
            "\t\tslope: 1\n",
            "\tfunction: Linear Function-359\n",
            "\t\tintercept: 0\n",
            "\t\tslope: 1\n",
            "\tinitial_value: None\n",
            "\tintegration_rate: 0.5\n",
            "\tintegrator_mode: True\n",
            "\tmax_passes: 1000\n",
            "\tnoise: 0.\n",
            "- output: 0.0\n",
            "\n",
            "'node1-12' mechanism executed:\n",
            "- input:  -2.5\n",
            "- params:\n",
            "\tconvergence_criterion: 0.01\n",
            "\tconvergence_function: Distance Function-2\n",
            "\t\tintercept: 0\n",
            "\t\tslope: 1\n",
            "\tfunction: Linear Function-349\n",
            "\t\tintercept: 0\n",
            "\t\tslope: 1\n",
            "\tinitial_value: None\n",
            "\tintegration_rate: 0.5\n",
            "\tintegrator_mode: True\n",
            "\tmax_passes: 1000\n",
            "\tnoise: 0.\n",
            "- output: 0.0\n",
            "\n",
            "'node2-12' mechanism executed:\n",
            "- input:  0.75\n",
            "- params:\n",
            "\tconvergence_criterion: 0.01\n",
            "\tconvergence_function: Distance Function-2\n",
            "\t\tintercept: 0\n",
            "\t\tslope: 1\n",
            "\tfunction: Linear Function-359\n",
            "\t\tintercept: 0\n",
            "\t\tslope: 1\n",
            "\tinitial_value: None\n",
            "\tintegration_rate: 0.5\n",
            "\tintegrator_mode: True\n",
            "\tmax_passes: 1000\n",
            "\tnoise: 0.\n",
            "- output: 0.0\n",
            "\n",
            "'node1-12' mechanism executed:\n",
            "- input:  -0.75\n",
            "- params:\n",
            "\tconvergence_criterion: 0.01\n",
            "\tconvergence_function: Distance Function-2\n",
            "\t\tintercept: 0\n",
            "\t\tslope: 1\n",
            "\tfunction: Linear Function-349\n",
            "\t\tintercept: 0\n",
            "\t\tslope: 1\n",
            "\tinitial_value: None\n",
            "\tintegration_rate: 0.5\n",
            "\tintegrator_mode: True\n",
            "\tmax_passes: 1000\n",
            "\tnoise: 0.\n",
            "- output: 0.0\n",
            "\n",
            "'node2-12' mechanism executed:\n",
            "- input:  0.75\n",
            "- params:\n",
            "\tconvergence_criterion: 0.01\n",
            "\tconvergence_function: Distance Function-2\n",
            "\t\tintercept: 0\n",
            "\t\tslope: 1\n",
            "\tfunction: Linear Function-359\n",
            "\t\tintercept: 0\n",
            "\t\tslope: 1\n",
            "\tinitial_value: None\n",
            "\tintegration_rate: 0.5\n",
            "\tintegrator_mode: True\n",
            "\tmax_passes: 1000\n",
            "\tnoise: 0.\n",
            "- output: 0.0\n",
            "\n",
            "'node1-12' mechanism executed:\n",
            "- input:  -0.75\n",
            "- params:\n",
            "\tconvergence_criterion: 0.01\n",
            "\tconvergence_function: Distance Function-2\n",
            "\t\tintercept: 0\n",
            "\t\tslope: 1\n",
            "\tfunction: Linear Function-349\n",
            "\t\tintercept: 0\n",
            "\t\tslope: 1\n",
            "\tinitial_value: None\n",
            "\tintegration_rate: 0.5\n",
            "\tintegrator_mode: True\n",
            "\tmax_passes: 1000\n",
            "\tnoise: 0.\n",
            "- output: 0.0\n",
            "\n",
            "'node2-12' mechanism executed:\n",
            "- input:  0.75\n",
            "- params:\n",
            "\tconvergence_criterion: 0.01\n",
            "\tconvergence_function: Distance Function-2\n",
            "\t\tintercept: 0\n",
            "\t\tslope: 1\n",
            "\tfunction: Linear Function-359\n",
            "\t\tintercept: 0\n",
            "\t\tslope: 1\n",
            "\tinitial_value: None\n",
            "\tintegration_rate: 0.5\n",
            "\tintegrator_mode: True\n",
            "\tmax_passes: 1000\n",
            "\tnoise: 0.\n",
            "- output: 0.0\n",
            "\n",
            "'node1-12' mechanism executed:\n",
            "- input:  -0.75\n",
            "- params:\n",
            "\tconvergence_criterion: 0.01\n",
            "\tconvergence_function: Distance Function-2\n",
            "\t\tintercept: 0\n",
            "\t\tslope: 1\n",
            "\tfunction: Linear Function-349\n",
            "\t\tintercept: 0\n",
            "\t\tslope: 1\n",
            "\tinitial_value: None\n",
            "\tintegration_rate: 0.5\n",
            "\tintegrator_mode: True\n",
            "\tmax_passes: 1000\n",
            "\tnoise: 0.\n",
            "- output: 0.0\n"
          ],
          "name": "stdout"
        },
        {
          "output_type": "execute_result",
          "data": {
            "text/plain": [
              "[array([-0.75]), array([0.75])]"
            ]
          },
          "metadata": {
            "tags": []
          },
          "execution_count": 20
        }
      ]
    },
    {
      "metadata": {
        "id": "52bVj81teZFr",
        "colab_type": "text"
      },
      "cell_type": "markdown",
      "source": [
        "In the previous cell, try changing the values of input1 and input2 and running the system again.  Look carefully at the code, and at the sequence of inputs and outputs when you run the system.  \n",
        "\n",
        "We executed the system 10 times (num_trials = 10), with initial input values specified as input1 and input2, and all subsequent input values set equal to 0 in the input_dict.  What happens if you set all the subsequent input values to 1 instead of 0?  You can find out by uncommenting (remove #'s) the input_dict below the currently used input_dict (and comment out the previous version with 0s, by adding #'s at the start of those lines). \n",
        "\n",
        "What happens if you change the functions in the TransferMechanisms from Linear to Logistic (with default parameters, gain = 1, bias = 0, offset = 0)?  If you understand how the code is working, and how the logistic function works, then you should be able to explain the new pattern of output.  If you don't understand, ask a classmate or lab instructor.  \n",
        "\n",
        "\n",
        "## Dynamics 2: Unstable Feedback Loops\n",
        "\n",
        "While some systems evolve to fixed attractor states, others will evolve in a runaway cycle that goes continuously up or continuously down.  Still others behave chaotically.  If you give the previous system input values that are consistently different the outputs will continuously diverge.  For example if instead of both inputs being 0 or both being 1 (at each time step after the first one), the inputs are consistently different -- all 0s to node1 and all 1s to node2.  Try running the system with the following input:   \n",
        "\n",
        "```python\n",
        "input_dict = {node1: [2],\n",
        "             node2: [0]\n",
        "             }\n",
        "```\n",
        "\n",
        "(Note: if you only specify 1 input value for each node, the system will take this value as the input at every iterative execution.)"
      ]
    },
    {
      "metadata": {
        "id": "_P4K5a6TeZFs",
        "colab_type": "text"
      },
      "cell_type": "markdown",
      "source": [
        "## Necker Cube Model\n",
        "\n",
        "The Necker Cube is a 2D drawing with two common 3D interpretations: the faces of the cube that you see in the \"front\" and \"back\" can be reversed -- this also corresponds to seeing the 3D cube from \"above\" or \"below.\"  With a little practice most people can alternate between seeing these two interpretations.  However, almost nobody looks at the figure and spontaneously sees a tangled 3D object with vertices at arbitrary depths, or a 3D \"X\" or any one of a vast number of other possibilities.  How you interpret the vertices seems to be a holistic (Gestalt) process where the local positions of vertices and 3D angles are fixed by a more global interpretation.  Could a network of merely local connections give rise to two distinct globally stable interpretations?  Put another way, could vertices represented with weights connecting only to a few local neighboring vertices spontaneously move toward either of two global attractor states corresponding to the two interpretations we actually see?  This question motivates the next models we will explore.  \n",
        "\n",
        "How to model bistable interpretations of a Necker Cube is a classic example in cognitive modeling, and below are two figures from early textbooks.  \n",
        "\n",
        "![alt text](Lab1_Feldman_NeckerFigure.png \"Necker Figure 1\")\n",
        "![alt text](Lab1_PDP_NeckerFigure.png \"Necker Figure 2\")\n",
        "\n",
        "You can get a sense from these two figures how we might label and organize a Necker cube model [Note: FUL stands for Front Upper Left, and the other abbreviations are similar.]  Take a few moments to infer as much as you can from the two figures. \n",
        "\n",
        "The following figure depicts how we will represent the vertices in our Necker Cube perception model.  Think of the red sides as the interpreted \"front\" of the cube.    \n",
        "\n",
        "![alt text](Lab1_NeckerCode.png \"Necker Figure 3\")\n",
        "\n",
        "We'll use 16 nodes, numbered 0 to 15 [because Python indexes arrays starting with 0].  The figure shows that we want activations of these 16 nodes to cluster into two groups, 0-7 and 8-15, and we want these clusters to mutually inhibit each other so that only one cluster is active together at a time, corresponding to one interpretation of the Necker Cube at a time. \n",
        "\n",
        "Remember that we are aiming to create this emergent order of clustering and mutual inhibition out of only local connections.  In the following cell we will create a matrix specifying the connection weights.  Look down at the second line: Build_N_Matrix[0,:] = [0, 1, 3, 4, 8].  You can think of the numbers [0, 1, 3, 4, 8] like this: the first number [0] is a vertex (more specifically, it is a particular 3D interpretation of the spatial position of that vertex), the next three numbers [1, 3, 4] are vertex interpretations that will have excitatory connections to [0], and the last number [8] will have an inhibitory connection to [0].  Now look back at the figure above to fully understand this schematic.  In the left cube 0 is connected by an edge to three other vertices [1, 3, 4].  In the right cube, vertex 8 is in the same position as 0 but has the opposite depth interpretation: 0 and 8 are mutually exclusive interpretations, and their activations should be inversely related using mutual inhibition.        "
      ]
    },
    {
      "metadata": {
        "id": "XiRhdFQ1eZFt",
        "colab_type": "code",
        "outputId": "a0e76027-09e2-48d9-e6d9-e36e0a9c3ed0",
        "colab": {
          "base_uri": "https://localhost:8080/",
          "height": 289
        }
      },
      "cell_type": "code",
      "source": [
        "Build_N_Matrix = np.zeros((16,5))\n",
        "Build_N_Matrix[0,:] = [0, 1, 3, 4, 8]\n",
        "Build_N_Matrix[1,:] = [1, 0, 2, 5, 9]\n",
        "Build_N_Matrix[2,:] = [2, 1, 3, 6, 10]\n",
        "Build_N_Matrix[3,:] = [3, 0, 2, 7, 11]\n",
        "Build_N_Matrix[4,:] = [4, 5, 7, 0, 12]\n",
        "Build_N_Matrix[5,:] = [5, 4, 6, 1, 13]\n",
        "Build_N_Matrix[6,:] = [6, 5, 7, 2, 14]\n",
        "Build_N_Matrix[7,:] = [7, 4, 6, 3, 15]\n",
        "Build_N_Matrix[8,:] = [8, 9, 11, 12, 0]\n",
        "Build_N_Matrix[9,:] = [9, 8, 10, 13, 1]\n",
        "Build_N_Matrix[10,:] = [10, 9, 11, 14, 2]\n",
        "Build_N_Matrix[11,:] = [11, 8, 10, 15, 3]\n",
        "Build_N_Matrix[12,:] = [12, 13, 15, 8, 4]\n",
        "Build_N_Matrix[13,:] = [13, 12, 14, 9, 5]\n",
        "Build_N_Matrix[14,:] = [14, 13, 15, 10, 6]\n",
        "Build_N_Matrix[15,:] = [15, 12, 14, 11, 7]\n",
        "\n",
        "Build_N_Matrix = Build_N_Matrix.astype(int)\n",
        "\n",
        "Necker_Matrix = np.zeros((16,16))\n",
        "Necker_Matrix = Necker_Matrix.astype(int)\n",
        "\n",
        "\n",
        "excite = 1\n",
        "inhibit = -2\n",
        "\n",
        "for x in range(0,16):\n",
        "    Necker_Matrix[Build_N_Matrix[x,0], Build_N_Matrix[x,1]] = excite\n",
        "    Necker_Matrix[Build_N_Matrix[x,0], Build_N_Matrix[x,2]] = excite\n",
        "    Necker_Matrix[Build_N_Matrix[x,0], Build_N_Matrix[x,3]] = excite\n",
        "    Necker_Matrix[Build_N_Matrix[x,0], Build_N_Matrix[x,4]] = inhibit\n",
        "   \n",
        "    \n",
        "Necker_Matrix"
      ],
      "execution_count": 21,
      "outputs": [
        {
          "output_type": "execute_result",
          "data": {
            "text/plain": [
              "array([[ 0,  1,  0,  1,  1,  0,  0,  0, -2,  0,  0,  0,  0,  0,  0,  0],\n",
              "       [ 1,  0,  1,  0,  0,  1,  0,  0,  0, -2,  0,  0,  0,  0,  0,  0],\n",
              "       [ 0,  1,  0,  1,  0,  0,  1,  0,  0,  0, -2,  0,  0,  0,  0,  0],\n",
              "       [ 1,  0,  1,  0,  0,  0,  0,  1,  0,  0,  0, -2,  0,  0,  0,  0],\n",
              "       [ 1,  0,  0,  0,  0,  1,  0,  1,  0,  0,  0,  0, -2,  0,  0,  0],\n",
              "       [ 0,  1,  0,  0,  1,  0,  1,  0,  0,  0,  0,  0,  0, -2,  0,  0],\n",
              "       [ 0,  0,  1,  0,  0,  1,  0,  1,  0,  0,  0,  0,  0,  0, -2,  0],\n",
              "       [ 0,  0,  0,  1,  1,  0,  1,  0,  0,  0,  0,  0,  0,  0,  0, -2],\n",
              "       [-2,  0,  0,  0,  0,  0,  0,  0,  0,  1,  0,  1,  1,  0,  0,  0],\n",
              "       [ 0, -2,  0,  0,  0,  0,  0,  0,  1,  0,  1,  0,  0,  1,  0,  0],\n",
              "       [ 0,  0, -2,  0,  0,  0,  0,  0,  0,  1,  0,  1,  0,  0,  1,  0],\n",
              "       [ 0,  0,  0, -2,  0,  0,  0,  0,  1,  0,  1,  0,  0,  0,  0,  1],\n",
              "       [ 0,  0,  0,  0, -2,  0,  0,  0,  1,  0,  0,  0,  0,  1,  0,  1],\n",
              "       [ 0,  0,  0,  0,  0, -2,  0,  0,  0,  1,  0,  0,  1,  0,  1,  0],\n",
              "       [ 0,  0,  0,  0,  0,  0, -2,  0,  0,  0,  1,  0,  0,  1,  0,  1],\n",
              "       [ 0,  0,  0,  0,  0,  0,  0, -2,  0,  0,  0,  1,  1,  0,  1,  0]])"
            ]
          },
          "metadata": {
            "tags": []
          },
          "execution_count": 21
        }
      ]
    },
    {
      "metadata": {
        "id": "OejCyE7BeZFv",
        "colab_type": "text"
      },
      "cell_type": "markdown",
      "source": [
        "Now that we have a matrix that specifies the connection strengths between all 16 units, we can build a model that starts with random activations (between 0 and 1) and passes these values through the weight matrix over and over.  In most cases running this model will lead to the first 8 units (corresponding to the first 3D interpretation) firing in a simlar way, and the second 8 units (corresponding to the alternative 3D interpretation) firing together in the opposite way as the first 8.  Note that this model is very rudimentary and there are lots of ways that you can improve it!  "
      ]
    },
    {
      "metadata": {
        "id": "__1acjpIeZFw",
        "colab_type": "code",
        "outputId": "8c431b3a-d685-4fb3-9b91-73d5dcaae754",
        "colab": {}
      },
      "cell_type": "code",
      "source": [
        "node3 = pnl.TransferMechanism(\n",
        "    name='node3',\n",
        "    function=pnl.Linear(slope = 1, intercept = 0),\n",
        "    integrator_mode = True,\n",
        "    smoothing_factor = .5,\n",
        "    default_variable=np.zeros((1,16)),\n",
        ")\n",
        "\n",
        "\n",
        "#integrator function ((1-rate)*previous_value + rate*current_input) * mechanism_function\n",
        "\n",
        "node4 = pnl.TransferMechanism(\n",
        "    name='node4',\n",
        "    function=pnl.Linear(slope = 1, intercept = 0),\n",
        "    integrator_mode = True,\n",
        "    smoothing_factor = .5,\n",
        "    default_variable=np.zeros((1,16)),\n",
        ")\n",
        "\n",
        "\n",
        "connect_3_4 = Necker_Matrix\n",
        "connect_4_3 = Necker_Matrix\n",
        "\n",
        "weights_3_4 = pnl.MappingProjection(\n",
        "    name='connect_3_4',\n",
        "    matrix=connect_3_4,\n",
        ")\n",
        "\n",
        "weights_4_3 = pnl.MappingProjection(\n",
        "    name='connect_4_3',\n",
        "    matrix=connect_3_4,\n",
        ")\n",
        "\n",
        "process3 = pnl.Process(pathway=[node3, weights_3_4, node4])\n",
        "process4 = pnl.Process(pathway=[node4, weights_4_3, node3])\n",
        "\n",
        "\n",
        "system2 = pnl.System(\n",
        "    processes=[process3, process4]\n",
        ")\n",
        "                            \n",
        "node3.reportOutputPref = True\n",
        "node4.reportOutputPref = True\n",
        "\n",
        "system2.show_graph(output_fmt = 'jupyter')"
      ],
      "execution_count": 0,
      "outputs": [
        {
          "output_type": "execute_result",
          "data": {
            "image/svg+xml": "<?xml version=\"1.0\" encoding=\"UTF-8\" standalone=\"no\"?>\n<!DOCTYPE svg PUBLIC \"-//W3C//DTD SVG 1.1//EN\"\n \"http://www.w3.org/Graphics/SVG/1.1/DTD/svg11.dtd\">\n<!-- Generated by graphviz version 2.38.0 (20140413.2041)\n -->\n<!-- Title: %3 Pages: 1 -->\n<svg width=\"136pt\" height=\"127pt\"\n viewBox=\"0.00 0.00 135.89 127.00\" xmlns=\"http://www.w3.org/2000/svg\" xmlns:xlink=\"http://www.w3.org/1999/xlink\">\n<g id=\"graph0\" class=\"graph\" transform=\"scale(1 1) rotate(0) translate(4 123)\">\n<title>%3</title>\n<polygon fill=\"white\" stroke=\"none\" points=\"-4,4 -4,-123 131.89,-123 131.89,4 -4,4\"/>\n<!-- node3 -->\n<g id=\"node1\" class=\"node\"><title>node3</title>\n<ellipse fill=\"none\" stroke=\"green\" stroke-width=\"3\" cx=\"46.8901\" cy=\"-18\" rx=\"33.4852\" ry=\"18\"/>\n<text text-anchor=\"middle\" x=\"46.8901\" y=\"-14.9\" font-family=\"arial\" font-size=\"12.00\">node3</text>\n</g>\n<!-- node4 -->\n<g id=\"node2\" class=\"node\"><title>node4</title>\n<ellipse fill=\"none\" stroke=\"green\" stroke-width=\"3\" cx=\"46.8901\" cy=\"-101\" rx=\"33.4852\" ry=\"18\"/>\n<text text-anchor=\"middle\" x=\"46.8901\" y=\"-97.9\" font-family=\"arial\" font-size=\"12.00\">node4</text>\n</g>\n<!-- node3&#45;&gt;node4 -->\n<g id=\"edge2\" class=\"edge\"><title>node3&#45;&gt;node4</title>\n<path fill=\"none\" stroke=\"black\" d=\"M23.3938,-31.2605C15.0068,-36.9551 6.49937,-44.5756 1.89005,-54 -3.50768,-65.0364 4.03563,-75.0793 14.398,-82.9458\"/>\n<polygon fill=\"black\" stroke=\"black\" points=\"12.4495,-85.8533 22.704,-88.5174 16.3491,-80.04 12.4495,-85.8533\"/>\n<text text-anchor=\"middle\" x=\"32.3901\" y=\"-57\" font-family=\"arial\" font-size=\"10.00\">connect_3_4</text>\n</g>\n<!-- node4&#45;&gt;node3 -->\n<g id=\"edge1\" class=\"edge\"><title>node4&#45;&gt;node3</title>\n<path fill=\"none\" stroke=\"black\" d=\"M59.5693,-84.2465C65.0559,-75.5552 69.6616,-64.4365 66.8901,-54 65.9824,-50.582 64.6538,-47.1498 63.1058,-43.8419\"/>\n<polygon fill=\"black\" stroke=\"black\" points=\"66.1499,-42.1126 58.3296,-34.9646 59.9854,-45.4293 66.1499,-42.1126\"/>\n<text text-anchor=\"middle\" x=\"97.3901\" y=\"-57\" font-family=\"arial\" font-size=\"10.00\">connect_4_3</text>\n</g>\n</g>\n</svg>\n",
            "text/plain": [
              "<graphviz.dot.Digraph at 0x7f6d23786668>"
            ]
          },
          "metadata": {
            "tags": []
          },
          "execution_count": 14
        }
      ]
    },
    {
      "metadata": {
        "id": "Fw3pR3kr_D2m",
        "colab_type": "code",
        "colab": {
          "base_uri": "https://localhost:8080/",
          "height": 80
        },
        "outputId": "d05f21e5-0394-417d-ad11-2b67f13bcd63"
      },
      "cell_type": "code",
      "source": [
        "comp2 = pnl.Composition()\n",
        "\n",
        "node3 = pnl.TransferMechanism(\n",
        "    name='node3',\n",
        "    function=pnl.Linear(slope = 1, intercept = 0),\n",
        "    integrator_mode = True,\n",
        "    integration_rate = .5,\n",
        "    default_variable=np.zeros((1,16)),\n",
        ")\n",
        "\n",
        "\n",
        "#integrator function ((1-rate)*previous_value + rate*current_input) * mechanism_function\n",
        "\n",
        "node4 = pnl.TransferMechanism(\n",
        "    name='node4',\n",
        "    function=pnl.Linear(slope = 1, intercept = 0),\n",
        "    integrator_mode = True,\n",
        "    integration_rate = .5,\n",
        "    default_variable=np.zeros((1,16)),\n",
        ")\n",
        "\n",
        "\n",
        "connect_3_4 = Necker_Matrix\n",
        "connect_4_3 = Necker_Matrix\n",
        "\n",
        "weights_3_4 = pnl.MappingProjection(\n",
        "    name='connect_3_4',\n",
        "    matrix=connect_3_4,\n",
        ")\n",
        "\n",
        "weights_4_3 = pnl.MappingProjection(\n",
        "    name='connect_4_3',\n",
        "    matrix=connect_3_4,\n",
        ")\n",
        "\n",
        "# old syntax\n",
        "#process3 = pnl.Process(pathway=[node3, weights_3_4, node4])\n",
        "#process4 = pnl.Process(pathway=[node4, weights_4_3, node3])\n",
        "#system2 = pnl.System(\n",
        "#    processes=[process3, process4]\n",
        "#)\n",
        "\n",
        "# new syntax\n",
        "comp2.add_linear_processing_pathway(pathway = (node3, connect_3_4, node4, connect_4_3, node3))\n",
        "\n",
        "node3.reportOutputPref = True\n",
        "node4.reportOutputPref = True\n",
        "\n",
        "comp2.show_graph(output_fmt = 'jupyter')"
      ],
      "execution_count": 24,
      "outputs": [
        {
          "output_type": "execute_result",
          "data": {
            "text/plain": [
              "<graphviz.dot.Digraph at 0x7f0d6445c630>"
            ],
            "image/svg+xml": "<?xml version=\"1.0\" encoding=\"UTF-8\" standalone=\"no\"?>\n<!DOCTYPE svg PUBLIC \"-//W3C//DTD SVG 1.1//EN\"\n \"http://www.w3.org/Graphics/SVG/1.1/DTD/svg11.dtd\">\n<!-- Generated by graphviz version 2.40.1 (20161225.0304)\n -->\n<!-- Title: Composition&#45;13 Pages: 1 -->\n<svg width=\"176pt\" height=\"44pt\"\n viewBox=\"0.00 0.00 176.10 44.00\" xmlns=\"http://www.w3.org/2000/svg\" xmlns:xlink=\"http://www.w3.org/1999/xlink\">\n<g id=\"graph0\" class=\"graph\" transform=\"scale(1 1) rotate(0) translate(4 40)\">\n<title>Composition&#45;13</title>\n<polygon fill=\"#ffffff\" stroke=\"transparent\" points=\"-4,4 -4,-40 172.1016,-40 172.1016,4 -4,4\"/>\n<!-- node3&#45;2 -->\n<g id=\"node1\" class=\"node\">\n<title>node3&#45;2</title>\n<ellipse fill=\"none\" stroke=\"#a52a2a\" stroke-width=\"3\" cx=\"37.5508\" cy=\"-18\" rx=\"37.6017\" ry=\"18\"/>\n<text text-anchor=\"middle\" x=\"37.5508\" y=\"-14.9\" font-family=\"arial\" font-size=\"12.00\" fill=\"#000000\">node3&#45;2</text>\n</g>\n<!-- node4&#45;2 -->\n<g id=\"node2\" class=\"node\">\n<title>node4&#45;2</title>\n<ellipse fill=\"none\" stroke=\"#a52a2a\" stroke-width=\"3\" cx=\"130.5508\" cy=\"-18\" rx=\"37.6017\" ry=\"18\"/>\n<text text-anchor=\"middle\" x=\"130.5508\" y=\"-14.9\" font-family=\"arial\" font-size=\"12.00\" fill=\"#000000\">node4&#45;2</text>\n</g>\n</g>\n</svg>\n"
          },
          "metadata": {
            "tags": []
          },
          "execution_count": 24
        }
      ]
    },
    {
      "metadata": {
        "id": "91n5ALFKeZFz",
        "colab_type": "code",
        "outputId": "36f4079a-a16c-4685-d9a9-68574cd22124",
        "colab": {
          "base_uri": "https://localhost:8080/",
          "height": 7293
        }
      },
      "cell_type": "code",
      "source": [
        "input_dict = {node3: np.random.random((1,16)),\n",
        "             node4: np.random.random((1,16))\n",
        "             }\n",
        "\n",
        "comp2.run(input_dict, num_trials = 10)"
      ],
      "execution_count": 26,
      "outputs": [
        {
          "output_type": "stream",
          "text": [
            "\n",
            "'node3-2' mechanism executed:\n",
            "- input:  [array([ 1399.69103949,   339.3380638 ,  1405.25052261,  -423.32111836,\n",
            "         131.89416196,  1409.85428257,   -49.31652869,  1615.14244218,\n",
            "         -43.371084  , -1292.48788272,   139.40493214, -1499.67505074,\n",
            "       -1503.83623506,  -415.70510587, -1509.58594048,   346.63894665])]\n",
            "- params:\n",
            "\tconvergence_criterion: 0.01\n",
            "\tconvergence_function: Distance Function-2\n",
            "\t\tintercept: 0\n",
            "\t\tslope: 1\n",
            "\tfunction: Linear Function-427\n",
            "\t\tintercept: 0\n",
            "\t\tslope: 1\n",
            "\tinitial_value: None\n",
            "\tintegration_rate: 0.5\n",
            "\tintegrator_mode: True\n",
            "\tmax_passes: 1000\n",
            "\tnoise: 0.\n",
            "- output: 0.0 0.0 0.0 0.0 0.0 0.0 0.0 0.0 0.0 0.0 0.0 0.0 0.0 0.0 0.0 0.0\n",
            "\n",
            "'node4-2' mechanism executed:\n",
            "- input:  [array([   43.04276861,  1358.26188005,  -140.21654537,  1565.30829724,\n",
            "        1569.47730941,   415.01285088,  1574.86490414,  -346.82751006,\n",
            "       -1452.51924972,  -326.45937911, -1458.8833525 ,   435.55869316,\n",
            "        -119.61319911, -1463.22958609,    62.08396022, -1667.86768981])]\n",
            "- params:\n",
            "\tconvergence_criterion: 0.01\n",
            "\tconvergence_function: Distance Function-2\n",
            "\t\tintercept: 0\n",
            "\t\tslope: 1\n",
            "\tfunction: Linear Function-437\n",
            "\t\tintercept: 0\n",
            "\t\tslope: 1\n",
            "\tinitial_value: None\n",
            "\tintegration_rate: 0.5\n",
            "\tintegrator_mode: True\n",
            "\tmax_passes: 1000\n",
            "\tnoise: 0.\n",
            "- output: 0.0 0.0 0.0 0.0 0.0 0.0 0.0 0.0 0.0 0.0 0.0 0.0 0.0 0.0 0.0 0.0\n",
            "\n",
            "'node3-2' mechanism executed:\n",
            "- input:  [array([ 4399.26325255,   655.48179773,  4410.83102294,  -868.90742932,\n",
            "         241.22149871,  4419.73579392,  -122.4191757 ,  4830.71165762,\n",
            "         -69.56661385, -4191.59987425,   295.74128335, -4604.45380073,\n",
            "       -4612.80322998,  -814.66172025, -4624.44751837,   709.65865052])]\n",
            "- params:\n",
            "\tconvergence_criterion: 0.01\n",
            "\tconvergence_function: Distance Function-2\n",
            "\t\tintercept: 0\n",
            "\t\tslope: 1\n",
            "\tfunction: Linear Function-427\n",
            "\t\tintercept: 0\n",
            "\t\tslope: 1\n",
            "\tinitial_value: None\n",
            "\tintegration_rate: 0.5\n",
            "\tintegrator_mode: True\n",
            "\tmax_passes: 1000\n",
            "\tnoise: 0.\n",
            "- output: 0.0 0.0 0.0 0.0 0.0 0.0 0.0 0.0 0.0 0.0 0.0 0.0 0.0 0.0 0.0 0.0\n",
            "\n",
            "'node4-2' mechanism executed:\n",
            "- input:  [array([   89.04508794,  4079.51584824,  -276.14706479,  4492.66138775,\n",
            "        4501.12749954,   834.31199011,  4512.34313914,  -690.39333033,\n",
            "       -4273.48528974,  -662.11436167, -4285.26045443,   862.46231645,\n",
            "        -247.57257518, -4294.17339214,   115.69896043, -4705.25304617])]\n",
            "- params:\n",
            "\tconvergence_criterion: 0.01\n",
            "\tconvergence_function: Distance Function-2\n",
            "\t\tintercept: 0\n",
            "\t\tslope: 1\n",
            "\tfunction: Linear Function-437\n",
            "\t\tintercept: 0\n",
            "\t\tslope: 1\n",
            "\tinitial_value: None\n",
            "\tintegration_rate: 0.5\n",
            "\tintegrator_mode: True\n",
            "\tmax_passes: 1000\n",
            "\tnoise: 0.\n",
            "- output: 0.0 0.0 0.0 0.0 0.0 0.0 0.0 0.0 0.0 0.0 0.0 0.0 0.0 0.0 0.0 0.0\n",
            "\n",
            "'node3-2' mechanism executed:\n",
            "- input:  [array([ 13010.1440235 ,   1313.89411682,  13033.04102187,  -1735.35121827,\n",
            "          484.7123623 ,  13050.81155231,   -242.68409965,  13874.12237952,\n",
            "         -147.02206577, -12601.55331219,    582.27179886, -13426.56051538,\n",
            "       -13443.58451878,  -1638.43884588, -13466.70967448,   1411.01394645])]\n",
            "- params:\n",
            "\tconvergence_criterion: 0.01\n",
            "\tconvergence_function: Distance Function-2\n",
            "\t\tintercept: 0\n",
            "\t\tslope: 1\n",
            "\tfunction: Linear Function-427\n",
            "\t\tintercept: 0\n",
            "\t\tslope: 1\n",
            "\tinitial_value: None\n",
            "\tintegration_rate: 0.5\n",
            "\tintegrator_mode: True\n",
            "\tmax_passes: 1000\n",
            "\tnoise: 0.\n",
            "- output: 0.0 0.0 0.0 0.0 0.0 0.0 0.0 0.0 0.0 0.0 0.0 0.0 0.0 0.0 0.0 0.0\n",
            "\n",
            "'node4-2' mechanism executed:\n",
            "- input:  [array([   128.18415732,  12846.77193623,   -601.72128773,  13671.47764739,\n",
            "        13688.43105944,   1619.10238594,  13711.45944808,  -1429.87675495,\n",
            "       -13239.96939102,  -1280.49348338, -13263.40566542,   1768.08070168,\n",
            "         -451.94582014, -13280.99708868,    275.8088279 , -14103.81860118])]\n",
            "- params:\n",
            "\tconvergence_criterion: 0.01\n",
            "\tconvergence_function: Distance Function-2\n",
            "\t\tintercept: 0\n",
            "\t\tslope: 1\n",
            "\tfunction: Linear Function-437\n",
            "\t\tintercept: 0\n",
            "\t\tslope: 1\n",
            "\tinitial_value: None\n",
            "\tintegration_rate: 0.5\n",
            "\tintegrator_mode: True\n",
            "\tmax_passes: 1000\n",
            "\tnoise: 0.\n",
            "- output: 0.0 0.0 0.0 0.0 0.0 0.0 0.0 0.0 0.0 0.0 0.0 0.0 0.0 0.0 0.0 0.0\n",
            "\n",
            "'node3-2' mechanism executed:\n",
            "- input:  [array([ 39848.75646403,   2510.65701921,  39894.88556062,  -3587.15078707,\n",
            "          853.05405934,  39930.01110647,   -603.06005497,  41577.01135972,\n",
            "         -183.45585182, -39039.51262357,   1274.78584505, -40688.02756599,\n",
            "       -40722.21539951,  -3166.43905413, -40768.72429275,   2931.85252291])]\n",
            "- params:\n",
            "\tconvergence_criterion: 0.01\n",
            "\tconvergence_function: Distance Function-2\n",
            "\t\tintercept: 0\n",
            "\t\tslope: 1\n",
            "\tfunction: Linear Function-427\n",
            "\t\tintercept: 0\n",
            "\t\tslope: 1\n",
            "\tinitial_value: None\n",
            "\tintegration_rate: 0.5\n",
            "\tintegrator_mode: True\n",
            "\tmax_passes: 1000\n",
            "\tnoise: 0.\n",
            "- output: 0.0 0.0 0.0 0.0 0.0 0.0 0.0 0.0 0.0 0.0 0.0 0.0 0.0 0.0 0.0 0.0\n",
            "\n",
            "'node4-2' mechanism executed:\n",
            "- input:  [array([   242.93884079,  38572.43668231,  -1215.18711162,  40221.24323776,\n",
            "        40255.54775382,   3226.09383885,  40301.62799828,  -2872.58268785,\n",
            "       -39365.51293331,  -2555.44639435, -39411.8494242 ,   3542.54886301,\n",
            "         -897.56194702, -39446.98313677,    558.18302849, -41094.08718036])]\n",
            "- params:\n",
            "\tconvergence_criterion: 0.01\n",
            "\tconvergence_function: Distance Function-2\n",
            "\t\tintercept: 0\n",
            "\t\tslope: 1\n",
            "\tfunction: Linear Function-437\n",
            "\t\tintercept: 0\n",
            "\t\tslope: 1\n",
            "\tinitial_value: None\n",
            "\tintegration_rate: 0.5\n",
            "\tintegrator_mode: True\n",
            "\tmax_passes: 1000\n",
            "\tnoise: 0.\n",
            "- output: 0.0 0.0 0.0 0.0 0.0 0.0 0.0 0.0 0.0 0.0 0.0 0.0 0.0 0.0 0.0 0.0\n",
            "\n",
            "'node3-2' mechanism executed:\n",
            "- input:  [array([ 118814.879742  ,    4938.13153763,  118907.0510321 ,\n",
            "         -7258.22726946,    1622.36113649,  118977.07192696,\n",
            "         -1290.21238515,  122272.24984648,    -289.47786658,\n",
            "       -117204.14369991,    2625.45341751, -120500.65462179,\n",
            "       -120569.54661903,   -6256.52802979, -120662.24934511,\n",
            "          5940.59086156])]\n",
            "- params:\n",
            "\tconvergence_criterion: 0.01\n",
            "\tconvergence_function: Distance Function-2\n",
            "\t\tintercept: 0\n",
            "\t\tslope: 1\n",
            "\tfunction: Linear Function-427\n",
            "\t\tintercept: 0\n",
            "\t\tslope: 1\n",
            "\tinitial_value: None\n",
            "\tintegration_rate: 0.5\n",
            "\tintegrator_mode: True\n",
            "\tmax_passes: 1000\n",
            "\tnoise: 0.\n",
            "- output: 0.0 0.0 0.0 0.0 0.0 0.0 0.0 0.0 0.0 0.0 0.0 0.0 0.0 0.0 0.0 0.0\n",
            "\n",
            "'node4-2' mechanism executed:\n",
            "- input:  [array([    193.4024839 ,  118163.05663344,   -2722.14038062,\n",
            "        121459.2660633 ,  121528.08746917,    6159.95409561,\n",
            "        121620.6934282 ,   -6036.6911443 , -119755.92576634,\n",
            "         -4825.64572628, -119848.63633247,    7370.04193077,\n",
            "         -1510.50941643, -119918.47812016,    1402.42229131,\n",
            "       -123213.16672497])]\n",
            "- params:\n",
            "\tconvergence_criterion: 0.01\n",
            "\tconvergence_function: Distance Function-2\n",
            "\t\tintercept: 0\n",
            "\t\tslope: 1\n",
            "\tfunction: Linear Function-437\n",
            "\t\tintercept: 0\n",
            "\t\tslope: 1\n",
            "\tinitial_value: None\n",
            "\tintegration_rate: 0.5\n",
            "\tintegrator_mode: True\n",
            "\tmax_passes: 1000\n",
            "\tnoise: 0.\n",
            "- output: 0.0 0.0 0.0 0.0 0.0 0.0 0.0 0.0 0.0 0.0 0.0 0.0 0.0 0.0 0.0 0.0\n",
            "\n",
            "'node3-2' mechanism executed:\n",
            "- input:  [array([ 3.59738945e+05,  9.11075344e+03,  3.59923775e+05, -1.52815576e+04,\n",
            "        2.48006987e+03,  3.60063210e+05, -3.34662855e+03,  3.66653763e+05,\n",
            "        1.79220616e+02, -3.56526427e+05,  6.00850697e+03, -3.63118131e+05,\n",
            "       -3.63256246e+05, -1.17548865e+04, -3.63441758e+05,  1.26384609e+04])]\n",
            "- params:\n",
            "\tconvergence_criterion: 0.01\n",
            "\tconvergence_function: Distance Function-2\n",
            "\t\tintercept: 0\n",
            "\t\tslope: 1\n",
            "\tfunction: Linear Function-427\n",
            "\t\tintercept: 0\n",
            "\t\tslope: 1\n",
            "\tinitial_value: None\n",
            "\tintegration_rate: 0.5\n",
            "\tintegrator_mode: True\n",
            "\tmax_passes: 1000\n",
            "\tnoise: 0.\n",
            "- output: 0.0 0.0 0.0 0.0 0.0 0.0 0.0 0.0 0.0 0.0 0.0 0.0 0.0 0.0 0.0 0.0\n",
            "\n",
            "'node4-2' mechanism executed:\n",
            "- input:  [array([ 3.75088768e+01,  3.54635672e+05, -5.79166173e+03,  3.61227668e+05,\n",
            "        3.61365900e+05,  1.19717878e+04,  3.61550984e+05, -1.24219446e+04,\n",
            "       -3.57829550e+05, -9.31094162e+03, -3.58014587e+05,  1.50815569e+04,\n",
            "       -2.67997655e+03, -3.58154030e+05,  3.14635272e+03, -3.64744687e+05])]\n",
            "- params:\n",
            "\tconvergence_criterion: 0.01\n",
            "\tconvergence_function: Distance Function-2\n",
            "\t\tintercept: 0\n",
            "\t\tslope: 1\n",
            "\tfunction: Linear Function-437\n",
            "\t\tintercept: 0\n",
            "\t\tslope: 1\n",
            "\tinitial_value: None\n",
            "\tintegration_rate: 0.5\n",
            "\tintegrator_mode: True\n",
            "\tmax_passes: 1000\n",
            "\tnoise: 0.\n",
            "- output: 0.0 0.0 0.0 0.0 0.0 0.0 0.0 0.0 0.0 0.0 0.0 0.0 0.0 0.0 0.0 0.0\n",
            "\n",
            "'node3-2' mechanism executed:\n",
            "- input:  [array([ 1076314.01783603,    16975.56967866,  1076683.74121104,\n",
            "         -31810.07195693,     3713.7347163 ,  1076962.19000772,\n",
            "          -7940.23758376,  1090144.29123605,     1597.83943126,\n",
            "       -1069897.74725151,    13254.62985354, -1083080.81810858,\n",
            "       -1083357.75563703,   -22271.31583821, -1083728.31372668,\n",
            "          26515.63850868])]\n",
            "- params:\n",
            "\tconvergence_criterion: 0.01\n",
            "\tconvergence_function: Distance Function-2\n",
            "\t\tintercept: 0\n",
            "\t\tslope: 1\n",
            "\tfunction: Linear Function-427\n",
            "\t\tintercept: 0\n",
            "\t\tslope: 1\n",
            "\tinitial_value: None\n",
            "\tintegration_rate: 0.5\n",
            "\tintegrator_mode: True\n",
            "\tmax_passes: 1000\n",
            "\tnoise: 0.\n",
            "- output: 0.0 0.0 0.0 0.0 0.0 0.0 0.0 0.0 0.0 0.0 0.0 0.0 0.0 0.0 0.0 0.0\n",
            "\n",
            "'node4-2' mechanism executed:\n",
            "- input:  [array([   -2005.63626639,  1073707.726944  ,   -13663.0382691 ,\n",
            "        1086890.49630905,  1087167.36324615,    21863.02045159,\n",
            "        1087537.82456874,   -26923.46024386, -1080103.65696667,\n",
            "         -16549.5147112 , -1080473.9196177 ,    32235.45577436,\n",
            "          -3288.31384012, -1080752.18930721,     8366.01664604,\n",
            "       -1093933.80122083])]\n",
            "- params:\n",
            "\tconvergence_criterion: 0.01\n",
            "\tconvergence_function: Distance Function-2\n",
            "\t\tintercept: 0\n",
            "\t\tslope: 1\n",
            "\tfunction: Linear Function-437\n",
            "\t\tintercept: 0\n",
            "\t\tslope: 1\n",
            "\tinitial_value: None\n",
            "\tintegration_rate: 0.5\n",
            "\tintegrator_mode: True\n",
            "\tmax_passes: 1000\n",
            "\tnoise: 0.\n",
            "- output: 0.0 0.0 0.0 0.0 0.0 0.0 0.0 0.0 0.0 0.0 0.0 0.0 0.0 0.0 0.0 0.0\n",
            "\n",
            "'node3-2' mechanism executed:\n",
            "- input:  [array([ 3.24214383e+06,  2.81349064e+04,  3.24288392e+06, -6.94362467e+04,\n",
            "        1.61219033e+03,  3.24344002e+06, -2.16975358e+04,  3.26980424e+06,\n",
            "        9.00378823e+03, -3.22932126e+06,  3.23165627e+04, -3.25568627e+06,\n",
            "       -3.25624066e+06, -3.87343863e+04, -3.25698174e+06,  5.88383557e+04])]\n",
            "- params:\n",
            "\tconvergence_criterion: 0.01\n",
            "\tconvergence_function: Distance Function-2\n",
            "\t\tintercept: 0\n",
            "\t\tslope: 1\n",
            "\tfunction: Linear Function-427\n",
            "\t\tintercept: 0\n",
            "\t\tslope: 1\n",
            "\tinitial_value: None\n",
            "\tintegration_rate: 0.5\n",
            "\tintegrator_mode: True\n",
            "\tmax_passes: 1000\n",
            "\tnoise: 0.\n",
            "- output: 0.0 0.0 0.0 0.0 0.0 0.0 0.0 0.0 0.0 0.0 0.0 0.0 0.0 0.0 0.0 0.0\n",
            "\n",
            "'node4-2' mechanism executed:\n",
            "- input:  [array([-8.16084428e+03,  3.22173208e+06, -3.14735030e+04,  3.24809738e+06,\n",
            "        3.24865190e+06,  3.95775021e+04,  3.24939254e+06, -5.79956249e+04,\n",
            "       -3.23453354e+06, -2.89594613e+04, -3.23527383e+06,  6.86118792e+04,\n",
            "       -2.43646378e+03, -3.23582994e+06,  2.08728932e+04, -3.26219426e+06])]\n",
            "- params:\n",
            "\tconvergence_criterion: 0.01\n",
            "\tconvergence_function: Distance Function-2\n",
            "\t\tintercept: 0\n",
            "\t\tslope: 1\n",
            "\tfunction: Linear Function-437\n",
            "\t\tintercept: 0\n",
            "\t\tslope: 1\n",
            "\tinitial_value: None\n",
            "\tintegration_rate: 0.5\n",
            "\tintegrator_mode: True\n",
            "\tmax_passes: 1000\n",
            "\tnoise: 0.\n",
            "- output: 0.0 0.0 0.0 0.0 0.0 0.0 0.0 0.0 0.0 0.0 0.0 0.0 0.0 0.0 0.0 0.0\n",
            "\n",
            "'node3-2' mechanism executed:\n",
            "- input:  [array([ 9714846.5142721 ,    42998.92572565,  9716326.90090471,\n",
            "        -152144.67616451,   -10046.8774564 ,  9717438.48775275,\n",
            "         -56667.13540981,  9770167.7371559 ,    31271.13409872,\n",
            "       -9689211.15229847,    77894.67053412, -9741941.00795675,\n",
            "       -9743050.70116597,   -64206.01316969, -9744532.22579188,\n",
            "         130939.45405879])]\n",
            "- params:\n",
            "\tconvergence_criterion: 0.01\n",
            "\tconvergence_function: Distance Function-2\n",
            "\t\tintercept: 0\n",
            "\t\tslope: 1\n",
            "\tfunction: Linear Function-427\n",
            "\t\tintercept: 0\n",
            "\t\tslope: 1\n",
            "\tinitial_value: None\n",
            "\tintegration_rate: 0.5\n",
            "\tintegrator_mode: True\n",
            "\tmax_passes: 1000\n",
            "\tnoise: 0.\n",
            "- output: 0.0 0.0 0.0 0.0 0.0 0.0 0.0 0.0 0.0 0.0 0.0 0.0 0.0 0.0 0.0 0.0\n",
            "\n",
            "'node4-2' mechanism executed:\n",
            "- input:  [array([  -32928.58829915,  9704421.68854783,   -79552.73631498,\n",
            "        9757151.24271408,  9758260.86533194,    62548.06041777,\n",
            "        9759742.2931908 ,  -132596.93315927, -9730034.23630692,\n",
            "         -41321.36568922, -9731515.16221556,   153821.56505091,\n",
            "          11723.80340154, -9732626.56995644,    58344.41954105,\n",
            "       -9785355.33004487])]\n",
            "- params:\n",
            "\tconvergence_criterion: 0.01\n",
            "\tconvergence_function: Distance Function-2\n",
            "\t\tintercept: 0\n",
            "\t\tslope: 1\n",
            "\tfunction: Linear Function-437\n",
            "\t\tintercept: 0\n",
            "\t\tslope: 1\n",
            "\tinitial_value: None\n",
            "\tintegration_rate: 0.5\n",
            "\tintegrator_mode: True\n",
            "\tmax_passes: 1000\n",
            "\tnoise: 0.\n",
            "- output: 0.0 0.0 0.0 0.0 0.0 0.0 0.0 0.0 0.0 0.0 0.0 0.0 0.0 0.0 0.0 0.0\n",
            "\n",
            "'node3-2' mechanism executed:\n",
            "- input:  [array([ 29197374.76647963,     37854.63030353,  29200336.32976268,\n",
            "         -352432.71955343,    -68235.92548617,  29202558.51438785,\n",
            "         -161478.45312306,  29308016.84673256,    110676.57536943,\n",
            "       -29146115.02689521,    203922.61166819, -29251573.78380823,\n",
            "       -29253793.88360928,    -80277.44038337, -29256756.73652496,\n",
            "          310012.05112543])]\n",
            "- params:\n",
            "\tconvergence_criterion: 0.01\n",
            "\tconvergence_function: Distance Function-2\n",
            "\t\tintercept: 0\n",
            "\t\tslope: 1\n",
            "\tfunction: Linear Function-427\n",
            "\t\tintercept: 0\n",
            "\t\tslope: 1\n",
            "\tinitial_value: None\n",
            "\tintegration_rate: 0.5\n",
            "\tintegrator_mode: True\n",
            "\tmax_passes: 1000\n",
            "\tnoise: 0.\n",
            "- output: 0.0 0.0 0.0 0.0 0.0 0.0 0.0 0.0 0.0 0.0 0.0 0.0 0.0 0.0 0.0 0.0\n",
            "\n",
            "'node4-2' mechanism executed:\n",
            "- input:  [array([  -107331.54512998,  29115728.44714033,   -200577.46568428,\n",
            "        29221187.49566638,  29223407.71214997,     83622.64241856,\n",
            "        29226370.13641686,   -306667.23403989, -29166964.59817728,\n",
            "          -41179.42381813, -29169926.36885463,    349108.1134899 ,\n",
            "           64911.41345903, -29172148.56164652,    158153.57195712,\n",
            "       -29277606.99778157])]\n",
            "- params:\n",
            "\tconvergence_criterion: 0.01\n",
            "\tconvergence_function: Distance Function-2\n",
            "\t\tintercept: 0\n",
            "\t\tslope: 1\n",
            "\tfunction: Linear Function-437\n",
            "\t\tintercept: 0\n",
            "\t\tslope: 1\n",
            "\tinitial_value: None\n",
            "\tintegration_rate: 0.5\n",
            "\tintegrator_mode: True\n",
            "\tmax_passes: 1000\n",
            "\tnoise: 0.\n",
            "- output: 0.0 0.0 0.0 0.0 0.0 0.0 0.0 0.0 0.0 0.0 0.0 0.0 0.0 0.0 0.0 0.0\n"
          ],
          "name": "stdout"
        },
        {
          "output_type": "execute_result",
          "data": {
            "text/plain": [
              "[array([ 17513407.31955327,     34643.22191657,  17515381.51232287,\n",
              "          -225548.19891459,    -36083.99675906,  17516863.23535342,\n",
              "           -98245.17085776,  17587168.71660511,     64380.28930566,\n",
              "        -17479230.74472387,    126544.74188635, -17549536.83223069,\n",
              "        -17551016.66162242,    -62922.34526489, -17552991.99238531,\n",
              "           197270.94090459]),\n",
              " array([   -63036.55015469,  17467082.60995643,   -125201.12943254,\n",
              "         17537388.79137459,  17538868.67502423,     64266.03276253,\n",
              "         17540843.68776558,   -195927.35215624, -17501236.67890023,\n",
              "           -35967.38387354, -17503211.18969137,    224223.93820832,\n",
              "            34759.81109664, -17504692.85846402,     96920.85849817,\n",
              "        -17574998.24580436])]"
            ]
          },
          "metadata": {
            "tags": []
          },
          "execution_count": 26
        }
      ]
    },
    {
      "metadata": {
        "id": "R3QA-TrNCJvx",
        "colab_type": "code",
        "colab": {
          "base_uri": "https://localhost:8080/",
          "height": 12257
        },
        "outputId": "437c2eff-96c7-4572-fe0b-2e1ac6c80157"
      },
      "cell_type": "code",
      "source": [
        "for i in range(1,10):\n",
        "  input_dict = {node3: np.random.random((1,16)),\n",
        "             node4: np.random.random((1,16))\n",
        "             }\n",
        "\n",
        "  comp2.run(execution_id = i, inputs=input_dict, num_trials = 2)\n",
        "  "
      ],
      "execution_count": 30,
      "outputs": [
        {
          "output_type": "stream",
          "text": [
            "\n",
            "'node3-2' mechanism executed:\n",
            "- input:  [array([0.80444389, 0.44771405, 0.14752138, 0.68234529, 0.01220513,\n",
            "       0.67547346, 0.34177292, 0.75716648, 0.06922971, 0.48625025,\n",
            "       0.85696311, 0.24714172, 0.11803763, 0.05839919, 0.78688155,\n",
            "       0.02959265])]\n",
            "- params:\n",
            "\tconvergence_criterion: 0.01\n",
            "\tconvergence_function: Distance Function-2\n",
            "\t\tintercept: 0\n",
            "\t\tslope: 1\n",
            "\tfunction: Linear Function-427\n",
            "\t\tintercept: 0\n",
            "\t\tslope: 1\n",
            "\tinitial_value: None\n",
            "\tintegration_rate: 0.5\n",
            "\tintegrator_mode: True\n",
            "\tmax_passes: 1000\n",
            "\tnoise: 0.\n",
            "- output: 0.0 0.0 0.0 0.0 0.0 0.0 0.0 0.0 0.0 0.0 0.0 0.0 0.0 0.0 0.0 0.0\n",
            "\n",
            "'node4-2' mechanism executed:\n",
            "- input:  [array([0.06944245, 0.15853044, 0.9377781 , 0.89653501, 0.01267025,\n",
            "       0.15548412, 0.01981443, 0.09363011, 0.64226978, 0.86327126,\n",
            "       0.65522795, 0.99644955, 0.16896198, 0.44014114, 0.17999783,\n",
            "       0.61773296])]\n",
            "- params:\n",
            "\tconvergence_criterion: 0.01\n",
            "\tconvergence_function: Distance Function-2\n",
            "\t\tintercept: 0\n",
            "\t\tslope: 1\n",
            "\tfunction: Linear Function-437\n",
            "\t\tintercept: 0\n",
            "\t\tslope: 1\n",
            "\tinitial_value: None\n",
            "\tintegration_rate: 0.5\n",
            "\tintegrator_mode: True\n",
            "\tmax_passes: 1000\n",
            "\tnoise: 0.\n",
            "- output: 0.0 0.0 0.0 0.0 0.0 0.0 0.0 0.0 0.0 0.0 0.0 0.0 0.0 0.0 0.0 0.0\n",
            "\n",
            "'node3-2' mechanism executed:\n",
            "- input:  [array([0.69604196, 0.16579512, 0.02973337, 0.23632107, 0.00252149,\n",
            "       0.33083988, 0.75522126, 0.60394337, 1.01412866, 1.19653925,\n",
            "       0.93904433, 0.30822206, 0.95543932, 0.5090306 , 1.62361814,\n",
            "       0.60866721])]\n",
            "- params:\n",
            "\tconvergence_criterion: 0.01\n",
            "\tconvergence_function: Distance Function-2\n",
            "\t\tintercept: 0\n",
            "\t\tslope: 1\n",
            "\tfunction: Linear Function-427\n",
            "\t\tintercept: 0\n",
            "\t\tslope: 1\n",
            "\tinitial_value: None\n",
            "\tintegration_rate: 0.5\n",
            "\tintegrator_mode: True\n",
            "\tmax_passes: 1000\n",
            "\tnoise: 0.\n",
            "- output: 0.0 0.0 0.0 0.0 0.0 0.0 0.0 0.0 0.0 0.0 0.0 0.0 0.0 0.0 0.0 0.0\n",
            "\n",
            "'node4-2' mechanism executed:\n",
            "- input:  [array([0.57134497, 0.48599956, 0.81673111, 1.50395916, 1.01317454,\n",
            "       0.49793098, 0.02301355, 0.58219914, 0.26354069, 0.90785322,\n",
            "       1.26784333, 0.791997  , 0.23536763, 0.46025239, 0.31070238,\n",
            "       0.43659692])]\n",
            "- params:\n",
            "\tconvergence_criterion: 0.01\n",
            "\tconvergence_function: Distance Function-2\n",
            "\t\tintercept: 0\n",
            "\t\tslope: 1\n",
            "\tfunction: Linear Function-437\n",
            "\t\tintercept: 0\n",
            "\t\tslope: 1\n",
            "\tinitial_value: None\n",
            "\tintegration_rate: 0.5\n",
            "\tintegrator_mode: True\n",
            "\tmax_passes: 1000\n",
            "\tnoise: 0.\n",
            "- output: 0.0 0.0 0.0 0.0 0.0 0.0 0.0 0.0 0.0 0.0 0.0 0.0 0.0 0.0 0.0 0.0\n",
            "\n",
            "'node3-2' mechanism executed:\n",
            "- input:  [array([0.05779549, 0.32775596, 0.2115127 , 0.10661027, 0.6480367 ,\n",
            "       0.0877213 , 0.63256982, 0.52183948, 0.94113454, 0.00142784,\n",
            "       0.07999829, 0.38226709, 0.02899594, 0.86307012, 0.65362377,\n",
            "       0.08581842])]\n",
            "- params:\n",
            "\tconvergence_criterion: 0.01\n",
            "\tconvergence_function: Distance Function-2\n",
            "\t\tintercept: 0\n",
            "\t\tslope: 1\n",
            "\tfunction: Linear Function-427\n",
            "\t\tintercept: 0\n",
            "\t\tslope: 1\n",
            "\tinitial_value: None\n",
            "\tintegration_rate: 0.5\n",
            "\tintegrator_mode: True\n",
            "\tmax_passes: 1000\n",
            "\tnoise: 0.\n",
            "- output: 0.0 0.0 0.0 0.0 0.0 0.0 0.0 0.0 0.0 0.0 0.0 0.0 0.0 0.0 0.0 0.0\n",
            "\n",
            "'node4-2' mechanism executed:\n",
            "- input:  [array([3.16779505e-01, 2.14689004e-01, 3.72621882e-01, 5.99029607e-01,\n",
            "       9.70990398e-03, 2.04762732e-04, 5.52670430e-01, 1.18737734e-01,\n",
            "       9.94645418e-01, 3.24607900e-01, 9.37410144e-02, 1.43857523e-01,\n",
            "       4.23241258e-01, 3.48260981e-01, 4.79380021e-01, 2.01799570e-01])]\n",
            "- params:\n",
            "\tconvergence_criterion: 0.01\n",
            "\tconvergence_function: Distance Function-2\n",
            "\t\tintercept: 0\n",
            "\t\tslope: 1\n",
            "\tfunction: Linear Function-437\n",
            "\t\tintercept: 0\n",
            "\t\tslope: 1\n",
            "\tinitial_value: None\n",
            "\tintegration_rate: 0.5\n",
            "\tintegrator_mode: True\n",
            "\tmax_passes: 1000\n",
            "\tnoise: 0.\n",
            "- output: 0.0 0.0 0.0 0.0 0.0 0.0 0.0 0.0 0.0 0.0 0.0 0.0 0.0 0.0 0.0 0.0\n",
            "\n",
            "'node3-2' mechanism executed:\n",
            "- input:  [array([-0.52513567,  0.34795113,  0.80096621,  0.3668223 ,  0.44265644,\n",
            "        0.12799498,  0.39897198,  0.90074488,  1.07020838,  0.50506255,\n",
            "        0.18129913,  0.42833048,  0.79163902,  1.47647994,  0.42285413,\n",
            "        0.49032009])]\n",
            "- params:\n",
            "\tconvergence_criterion: 0.01\n",
            "\tconvergence_function: Distance Function-2\n",
            "\t\tintercept: 0\n",
            "\t\tslope: 1\n",
            "\tfunction: Linear Function-427\n",
            "\t\tintercept: 0\n",
            "\t\tslope: 1\n",
            "\tinitial_value: None\n",
            "\tintegration_rate: 0.5\n",
            "\tintegrator_mode: True\n",
            "\tmax_passes: 1000\n",
            "\tnoise: 0.\n",
            "- output: 0.0 0.0 0.0 0.0 0.0 0.0 0.0 0.0 0.0 0.0 0.0 0.0 0.0 0.0 0.0 0.0\n",
            "\n",
            "'node4-2' mechanism executed:\n",
            "- input:  [array([-0.08315357,  0.3917759 ,  0.82609161,  0.61233636,  0.3143921 ,\n",
            "       -0.05868411,  0.30958339,  0.72652771,  1.14319536,  0.93895341,\n",
            "        0.40088767,  0.59072288,  0.72021609,  0.60256346,  0.36125362,\n",
            "        0.21240349])]\n",
            "- params:\n",
            "\tconvergence_criterion: 0.01\n",
            "\tconvergence_function: Distance Function-2\n",
            "\t\tintercept: 0\n",
            "\t\tslope: 1\n",
            "\tfunction: Linear Function-437\n",
            "\t\tintercept: 0\n",
            "\t\tslope: 1\n",
            "\tinitial_value: None\n",
            "\tintegration_rate: 0.5\n",
            "\tintegrator_mode: True\n",
            "\tmax_passes: 1000\n",
            "\tnoise: 0.\n",
            "- output: 0.0 0.0 0.0 0.0 0.0 0.0 0.0 0.0 0.0 0.0 0.0 0.0 0.0 0.0 0.0 0.0\n",
            "\n",
            "'node3-2' mechanism executed:\n",
            "- input:  [array([0.11848506, 0.18854839, 0.53019554, 0.24365555, 0.61919222,\n",
            "       0.89471982, 0.62509878, 0.551144  , 0.63775256, 0.66654149,\n",
            "       0.61963193, 0.19075143, 0.11535952, 0.12625352, 0.79601588,\n",
            "       0.52893582])]\n",
            "- params:\n",
            "\tconvergence_criterion: 0.01\n",
            "\tconvergence_function: Distance Function-2\n",
            "\t\tintercept: 0\n",
            "\t\tslope: 1\n",
            "\tfunction: Linear Function-427\n",
            "\t\tintercept: 0\n",
            "\t\tslope: 1\n",
            "\tinitial_value: None\n",
            "\tintegration_rate: 0.5\n",
            "\tintegrator_mode: True\n",
            "\tmax_passes: 1000\n",
            "\tnoise: 0.\n",
            "- output: 0.0 0.0 0.0 0.0 0.0 0.0 0.0 0.0 0.0 0.0 0.0 0.0 0.0 0.0 0.0 0.0\n",
            "\n",
            "'node4-2' mechanism executed:\n",
            "- input:  [array([0.54553962, 0.23873422, 0.08754237, 0.96968394, 0.51961096,\n",
            "       0.31642971, 0.76990921, 0.20105482, 0.46161787, 0.83402596,\n",
            "       0.58507292, 0.23641031, 0.23236005, 0.48569684, 0.98641958,\n",
            "       0.28290175])]\n",
            "- params:\n",
            "\tconvergence_criterion: 0.01\n",
            "\tconvergence_function: Distance Function-2\n",
            "\t\tintercept: 0\n",
            "\t\tslope: 1\n",
            "\tfunction: Linear Function-437\n",
            "\t\tintercept: 0\n",
            "\t\tslope: 1\n",
            "\tinitial_value: None\n",
            "\tintegration_rate: 0.5\n",
            "\tintegrator_mode: True\n",
            "\tmax_passes: 1000\n",
            "\tnoise: 0.\n",
            "- output: 0.0 0.0 0.0 0.0 0.0 0.0 0.0 0.0 0.0 0.0 0.0 0.0 0.0 0.0 0.0 0.0\n",
            "\n",
            "'node3-2' mechanism executed:\n",
            "- input:  [array([ 0.52088175, -0.17072172,  0.93428631,  0.42431365,  0.91834425,\n",
            "        1.17315017, -0.05880734,  1.39784431,  0.7436111 ,  1.19400109,\n",
            "        1.56051748, -0.11413623,  0.21085679,  0.8362266 ,  0.70294243,\n",
            "        1.05547598])]\n",
            "- params:\n",
            "\tconvergence_criterion: 0.01\n",
            "\tconvergence_function: Distance Function-2\n",
            "\t\tintercept: 0\n",
            "\t\tslope: 1\n",
            "\tfunction: Linear Function-427\n",
            "\t\tintercept: 0\n",
            "\t\tslope: 1\n",
            "\tinitial_value: None\n",
            "\tintegration_rate: 0.5\n",
            "\tintegrator_mode: True\n",
            "\tmax_passes: 1000\n",
            "\tnoise: 0.\n",
            "- output: 0.0 0.0 0.0 0.0 0.0 0.0 0.0 0.0 0.0 0.0 0.0 0.0 0.0 0.0 0.0 0.0\n",
            "\n",
            "'node4-2' mechanism executed:\n",
            "- input:  [array([ 0.43348515,  0.34389293, -0.0034382 ,  1.37884481,  1.18642588,\n",
            "        0.90659589,  0.96192301,  0.41609227,  0.82945903,  1.33729657,\n",
            "        0.88153178,  0.88591491,  0.25963878,  0.37993547,  0.99873143,\n",
            "        0.28282117])]\n",
            "- params:\n",
            "\tconvergence_criterion: 0.01\n",
            "\tconvergence_function: Distance Function-2\n",
            "\t\tintercept: 0\n",
            "\t\tslope: 1\n",
            "\tfunction: Linear Function-437\n",
            "\t\tintercept: 0\n",
            "\t\tslope: 1\n",
            "\tinitial_value: None\n",
            "\tintegration_rate: 0.5\n",
            "\tintegrator_mode: True\n",
            "\tmax_passes: 1000\n",
            "\tnoise: 0.\n",
            "- output: 0.0 0.0 0.0 0.0 0.0 0.0 0.0 0.0 0.0 0.0 0.0 0.0 0.0 0.0 0.0 0.0\n",
            "\n",
            "'node3-2' mechanism executed:\n",
            "- input:  [array([0.33481773, 0.87208958, 0.71667648, 0.78892188, 0.89618256,\n",
            "       0.87698083, 0.50056536, 0.37758819, 0.24325363, 0.32597129,\n",
            "       0.37854813, 0.40642161, 0.03081328, 0.26170149, 0.60740163,\n",
            "       0.21907772])]\n",
            "- params:\n",
            "\tconvergence_criterion: 0.01\n",
            "\tconvergence_function: Distance Function-2\n",
            "\t\tintercept: 0\n",
            "\t\tslope: 1\n",
            "\tfunction: Linear Function-427\n",
            "\t\tintercept: 0\n",
            "\t\tslope: 1\n",
            "\tinitial_value: None\n",
            "\tintegration_rate: 0.5\n",
            "\tintegrator_mode: True\n",
            "\tmax_passes: 1000\n",
            "\tnoise: 0.\n",
            "- output: 0.0 0.0 0.0 0.0 0.0 0.0 0.0 0.0 0.0 0.0 0.0 0.0 0.0 0.0 0.0 0.0\n",
            "\n",
            "'node4-2' mechanism executed:\n",
            "- input:  [array([0.92191528, 0.5518467 , 0.78328282, 0.33711813, 0.55194413,\n",
            "       0.28893622, 0.75169093, 0.78175209, 0.80050193, 0.32057093,\n",
            "       0.80931528, 0.45223689, 0.2812185 , 0.64133575, 0.84063501,\n",
            "       0.45426288])]\n",
            "- params:\n",
            "\tconvergence_criterion: 0.01\n",
            "\tconvergence_function: Distance Function-2\n",
            "\t\tintercept: 0\n",
            "\t\tslope: 1\n",
            "\tfunction: Linear Function-437\n",
            "\t\tintercept: 0\n",
            "\t\tslope: 1\n",
            "\tinitial_value: None\n",
            "\tintegration_rate: 0.5\n",
            "\tintegrator_mode: True\n",
            "\tmax_passes: 1000\n",
            "\tnoise: 0.\n",
            "- output: 0.0 0.0 0.0 0.0 0.0 0.0 0.0 0.0 0.0 0.0 0.0 0.0 0.0 0.0 0.0 0.0\n",
            "\n",
            "'node3-2' mechanism executed:\n",
            "- input:  [array([ 0.25477028,  1.54858581,  0.72768908,  1.58016009,  1.61126586,\n",
            "        1.16338596,  0.58691592,  0.7437019 , -0.15164849,  0.89970106,\n",
            "        0.40198673,  1.10134352,  0.42691944,  0.69397749,  0.80816765,\n",
            "        0.22437082])]\n",
            "- params:\n",
            "\tconvergence_criterion: 0.01\n",
            "\tconvergence_function: Distance Function-2\n",
            "\t\tintercept: 0\n",
            "\t\tslope: 1\n",
            "\tfunction: Linear Function-427\n",
            "\t\tintercept: 0\n",
            "\t\tslope: 1\n",
            "\tinitial_value: None\n",
            "\tintegration_rate: 0.5\n",
            "\tintegrator_mode: True\n",
            "\tmax_passes: 1000\n",
            "\tnoise: 0.\n",
            "- output: 0.0 0.0 0.0 0.0 0.0 0.0 0.0 0.0 0.0 0.0 0.0 0.0 0.0 0.0 0.0 0.0\n",
            "\n",
            "'node4-2' mechanism executed:\n",
            "- input:  [array([ 1.95725866,  1.19011293,  1.4855231 ,  0.64523772,  1.31582421,\n",
            "        1.16165348,  1.12991205,  1.65550928,  0.84728729, -0.10976703,\n",
            "        0.76253606,  0.08375475, -0.25294764,  0.24644802,  0.76973332,\n",
            "        0.59899296])]\n",
            "- params:\n",
            "\tconvergence_criterion: 0.01\n",
            "\tconvergence_function: Distance Function-2\n",
            "\t\tintercept: 0\n",
            "\t\tslope: 1\n",
            "\tfunction: Linear Function-437\n",
            "\t\tintercept: 0\n",
            "\t\tslope: 1\n",
            "\tinitial_value: None\n",
            "\tintegration_rate: 0.5\n",
            "\tintegrator_mode: True\n",
            "\tmax_passes: 1000\n",
            "\tnoise: 0.\n",
            "- output: 0.0 0.0 0.0 0.0 0.0 0.0 0.0 0.0 0.0 0.0 0.0 0.0 0.0 0.0 0.0 0.0\n",
            "\n",
            "'node3-2' mechanism executed:\n",
            "- input:  [array([0.75366251, 0.38901964, 0.81281813, 0.5665726 , 0.15488772,\n",
            "       0.05722249, 0.2944655 , 0.66836172, 0.02630793, 0.02786006,\n",
            "       0.91142175, 0.82826193, 0.97746152, 0.70140709, 0.81846261,\n",
            "       0.51446367])]\n",
            "- params:\n",
            "\tconvergence_criterion: 0.01\n",
            "\tconvergence_function: Distance Function-2\n",
            "\t\tintercept: 0\n",
            "\t\tslope: 1\n",
            "\tfunction: Linear Function-427\n",
            "\t\tintercept: 0\n",
            "\t\tslope: 1\n",
            "\tinitial_value: None\n",
            "\tintegration_rate: 0.5\n",
            "\tintegrator_mode: True\n",
            "\tmax_passes: 1000\n",
            "\tnoise: 0.\n",
            "- output: 0.0 0.0 0.0 0.0 0.0 0.0 0.0 0.0 0.0 0.0 0.0 0.0 0.0 0.0 0.0 0.0\n",
            "\n",
            "'node4-2' mechanism executed:\n",
            "- input:  [array([0.64180592, 0.09358988, 0.91102247, 0.51653781, 0.1519416 ,\n",
            "       0.30705827, 0.60322375, 0.95422183, 0.23829939, 0.13726522,\n",
            "       0.32689593, 0.54620152, 0.19060448, 0.80376131, 0.89406375,\n",
            "       0.25910302])]\n",
            "- params:\n",
            "\tconvergence_criterion: 0.01\n",
            "\tconvergence_function: Distance Function-2\n",
            "\t\tintercept: 0\n",
            "\t\tslope: 1\n",
            "\tfunction: Linear Function-437\n",
            "\t\tintercept: 0\n",
            "\t\tslope: 1\n",
            "\tinitial_value: None\n",
            "\tintegration_rate: 0.5\n",
            "\tintegrator_mode: True\n",
            "\tmax_passes: 1000\n",
            "\tnoise: 0.\n",
            "- output: 0.0 0.0 0.0 0.0 0.0 0.0 0.0 0.0 0.0 0.0 0.0 0.0 0.0 0.0 0.0 0.0\n",
            "\n",
            "'node3-2' mechanism executed:\n",
            "- input:  [array([ 0.89639776,  1.18169775,  1.09259792,  1.27389619,  0.91582625,\n",
            "       -0.32216121,  0.48655303,  1.04511028, -0.17846238,  0.61874849,\n",
            "        0.78916453,  0.72387329,  1.47610178,  1.00531555,  0.91011899,\n",
            "        0.37567672])]\n",
            "- params:\n",
            "\tconvergence_criterion: 0.01\n",
            "\tconvergence_function: Distance Function-2\n",
            "\t\tintercept: 0\n",
            "\t\tslope: 1\n",
            "\tfunction: Linear Function-427\n",
            "\t\tintercept: 0\n",
            "\t\tslope: 1\n",
            "\tinitial_value: None\n",
            "\tintegration_rate: 0.5\n",
            "\tintegrator_mode: True\n",
            "\tmax_passes: 1000\n",
            "\tnoise: 0.\n",
            "- output: 0.0 0.0 0.0 0.0 0.0 0.0 0.0 0.0 0.0 0.0 0.0 0.0 0.0 0.0 0.0 0.0\n",
            "\n",
            "'node4-2' mechanism executed:\n",
            "- input:  [array([ 1.17073797,  0.87758139,  0.62462959,  0.80569705, -0.08589657,\n",
            "        0.0248376 ,  0.5539623 ,  0.94772107,  0.40142864,  0.56781396,\n",
            "        0.3513701 ,  0.7057256 ,  0.65680611,  1.65843092,  1.66324452,\n",
            "        0.90283433])]\n",
            "- params:\n",
            "\tconvergence_criterion: 0.01\n",
            "\tconvergence_function: Distance Function-2\n",
            "\t\tintercept: 0\n",
            "\t\tslope: 1\n",
            "\tfunction: Linear Function-437\n",
            "\t\tintercept: 0\n",
            "\t\tslope: 1\n",
            "\tinitial_value: None\n",
            "\tintegration_rate: 0.5\n",
            "\tintegrator_mode: True\n",
            "\tmax_passes: 1000\n",
            "\tnoise: 0.\n",
            "- output: 0.0 0.0 0.0 0.0 0.0 0.0 0.0 0.0 0.0 0.0 0.0 0.0 0.0 0.0 0.0 0.0\n",
            "\n",
            "'node3-2' mechanism executed:\n",
            "- input:  [array([0.14485058, 0.17336409, 0.61631484, 0.93964039, 0.51732117,\n",
            "       0.26837123, 0.64005995, 0.86155976, 0.31930368, 0.25653802,\n",
            "       0.10764429, 0.32964199, 0.18085502, 0.37830001, 0.25822423,\n",
            "       0.39118352])]\n",
            "- params:\n",
            "\tconvergence_criterion: 0.01\n",
            "\tconvergence_function: Distance Function-2\n",
            "\t\tintercept: 0\n",
            "\t\tslope: 1\n",
            "\tfunction: Linear Function-427\n",
            "\t\tintercept: 0\n",
            "\t\tslope: 1\n",
            "\tinitial_value: None\n",
            "\tintegration_rate: 0.5\n",
            "\tintegrator_mode: True\n",
            "\tmax_passes: 1000\n",
            "\tnoise: 0.\n",
            "- output: 0.0 0.0 0.0 0.0 0.0 0.0 0.0 0.0 0.0 0.0 0.0 0.0 0.0 0.0 0.0 0.0\n",
            "\n",
            "'node4-2' mechanism executed:\n",
            "- input:  [array([0.72432301, 0.68239216, 0.01492791, 0.72352044, 0.61760255,\n",
            "       0.35767229, 0.35221993, 0.57893044, 0.00867133, 0.50124036,\n",
            "       0.43199765, 0.45988529, 0.92619827, 0.43620866, 0.1178033 ,\n",
            "       0.81048077])]\n",
            "- params:\n",
            "\tconvergence_criterion: 0.01\n",
            "\tconvergence_function: Distance Function-2\n",
            "\t\tintercept: 0\n",
            "\t\tslope: 1\n",
            "\tfunction: Linear Function-437\n",
            "\t\tintercept: 0\n",
            "\t\tslope: 1\n",
            "\tinitial_value: None\n",
            "\tintegration_rate: 0.5\n",
            "\tintegrator_mode: True\n",
            "\tmax_passes: 1000\n",
            "\tnoise: 0.\n",
            "- output: 0.0 0.0 0.0 0.0 0.0 0.0 0.0 0.0 0.0 0.0 0.0 0.0 0.0 0.0 0.0 0.0\n",
            "\n",
            "'node3-2' mechanism executed:\n",
            "- input:  [array([1.14793682, 0.22058533, 1.06338345, 1.13884578, 0.42158576,\n",
            "       0.65826988, 0.99802198, 0.89775045, 0.53864264, 0.01258469,\n",
            "       0.63218086, 0.23169642, 0.19093286, 0.79324869, 0.74534784,\n",
            "       0.56419652])]\n",
            "- params:\n",
            "\tconvergence_criterion: 0.01\n",
            "\tconvergence_function: Distance Function-2\n",
            "\t\tintercept: 0\n",
            "\t\tslope: 1\n",
            "\tfunction: Linear Function-427\n",
            "\t\tintercept: 0\n",
            "\t\tslope: 1\n",
            "\tinitial_value: None\n",
            "\tintegration_rate: 0.5\n",
            "\tintegrator_mode: True\n",
            "\tmax_passes: 1000\n",
            "\tnoise: 0.\n",
            "- output: 0.0 0.0 0.0 0.0 0.0 0.0 0.0 0.0 0.0 0.0 0.0 0.0 0.0 0.0 0.0 0.0\n",
            "\n",
            "'node4-2' mechanism executed:\n",
            "- input:  [array([ 1.22018215,  0.94062246,  0.78381584,  1.20524104,  1.07413831,\n",
            "        0.64474489,  0.96711861,  1.23625767,  0.24733827,  0.73050027,\n",
            "        0.23788493, -0.07068935,  0.95327071,  0.51564607, -0.08369274,\n",
            "        0.33328163])]\n",
            "- params:\n",
            "\tconvergence_criterion: 0.01\n",
            "\tconvergence_function: Distance Function-2\n",
            "\t\tintercept: 0\n",
            "\t\tslope: 1\n",
            "\tfunction: Linear Function-437\n",
            "\t\tintercept: 0\n",
            "\t\tslope: 1\n",
            "\tinitial_value: None\n",
            "\tintegration_rate: 0.5\n",
            "\tintegrator_mode: True\n",
            "\tmax_passes: 1000\n",
            "\tnoise: 0.\n",
            "- output: 0.0 0.0 0.0 0.0 0.0 0.0 0.0 0.0 0.0 0.0 0.0 0.0 0.0 0.0 0.0 0.0\n",
            "\n",
            "'node3-2' mechanism executed:\n",
            "- input:  [array([0.40357481, 0.66203248, 0.77265332, 0.55008594, 0.87431127,\n",
            "       0.23350856, 0.2940936 , 0.44838815, 0.23104302, 0.78352025,\n",
            "       0.20934806, 0.59564766, 0.06535352, 0.43794523, 0.53911764,\n",
            "       0.63262664])]\n",
            "- params:\n",
            "\tconvergence_criterion: 0.01\n",
            "\tconvergence_function: Distance Function-2\n",
            "\t\tintercept: 0\n",
            "\t\tslope: 1\n",
            "\tfunction: Linear Function-427\n",
            "\t\tintercept: 0\n",
            "\t\tslope: 1\n",
            "\tinitial_value: None\n",
            "\tintegration_rate: 0.5\n",
            "\tintegrator_mode: True\n",
            "\tmax_passes: 1000\n",
            "\tnoise: 0.\n",
            "- output: 0.0 0.0 0.0 0.0 0.0 0.0 0.0 0.0 0.0 0.0 0.0 0.0 0.0 0.0 0.0 0.0\n",
            "\n",
            "'node4-2' mechanism executed:\n",
            "- input:  [array([0.00204495, 0.4044469 , 0.44991534, 0.13986182, 0.51971621,\n",
            "       0.68440721, 0.07374991, 0.99486729, 0.69675519, 0.48148216,\n",
            "       0.25811168, 0.99671988, 0.79808039, 0.56739212, 0.90624927,\n",
            "       0.85202943])]\n",
            "- params:\n",
            "\tconvergence_criterion: 0.01\n",
            "\tconvergence_function: Distance Function-2\n",
            "\t\tintercept: 0\n",
            "\t\tslope: 1\n",
            "\tfunction: Linear Function-437\n",
            "\t\tintercept: 0\n",
            "\t\tslope: 1\n",
            "\tinitial_value: None\n",
            "\tintegration_rate: 0.5\n",
            "\tintegrator_mode: True\n",
            "\tmax_passes: 1000\n",
            "\tnoise: 0.\n",
            "- output: 0.0 0.0 0.0 0.0 0.0 0.0 0.0 0.0 0.0 0.0 0.0 0.0 0.0 0.0 0.0 0.0\n",
            "\n",
            "'node3-2' mechanism executed:\n",
            "- input:  [array([ 0.23883209,  0.74873407,  0.82357095,  0.27677985,  0.91689061,\n",
            "        0.16507296,  0.45243925, -0.03697732,  1.36713929,  1.14020284,\n",
            "        0.95165838,  1.35923399,  0.60372569,  0.84644394,  1.30413435,\n",
            "        0.98828411])]\n",
            "- params:\n",
            "\tconvergence_criterion: 0.01\n",
            "\tconvergence_function: Distance Function-2\n",
            "\t\tintercept: 0\n",
            "\t\tslope: 1\n",
            "\tfunction: Linear Function-427\n",
            "\t\tintercept: 0\n",
            "\t\tslope: 1\n",
            "\tinitial_value: None\n",
            "\tintegration_rate: 0.5\n",
            "\tintegrator_mode: True\n",
            "\tmax_passes: 1000\n",
            "\tnoise: 0.\n",
            "- output: 0.0 0.0 0.0 0.0 0.0 0.0 0.0 0.0 0.0 0.0 0.0 0.0 0.0 0.0 0.0 0.0\n",
            "\n",
            "'node4-2' mechanism executed:\n",
            "- input:  [array([0.81421677, 0.325795  , 0.99367329, 0.3565223 , 0.99709844,\n",
            "       1.16168065, 0.26190728, 1.22148606, 1.0154411 , 0.25861784,\n",
            "       0.44460114, 0.9831428 , 0.57457657, 1.02787926, 1.25211563,\n",
            "       1.0037007 ])]\n",
            "- params:\n",
            "\tconvergence_criterion: 0.01\n",
            "\tconvergence_function: Distance Function-2\n",
            "\t\tintercept: 0\n",
            "\t\tslope: 1\n",
            "\tfunction: Linear Function-437\n",
            "\t\tintercept: 0\n",
            "\t\tslope: 1\n",
            "\tinitial_value: None\n",
            "\tintegration_rate: 0.5\n",
            "\tintegrator_mode: True\n",
            "\tmax_passes: 1000\n",
            "\tnoise: 0.\n",
            "- output: 0.0 0.0 0.0 0.0 0.0 0.0 0.0 0.0 0.0 0.0 0.0 0.0 0.0 0.0 0.0 0.0\n",
            "\n",
            "'node3-2' mechanism executed:\n",
            "- input:  [array([0.68838342, 0.71105944, 0.49459018, 0.7979489 , 0.78875068,\n",
            "       0.81600225, 0.82444432, 0.17294407, 0.61290869, 0.20974233,\n",
            "       0.61494999, 0.16195961, 0.82295881, 0.17034424, 0.49850574,\n",
            "       0.18185286])]\n",
            "- params:\n",
            "\tconvergence_criterion: 0.01\n",
            "\tconvergence_function: Distance Function-2\n",
            "\t\tintercept: 0\n",
            "\t\tslope: 1\n",
            "\tfunction: Linear Function-427\n",
            "\t\tintercept: 0\n",
            "\t\tslope: 1\n",
            "\tinitial_value: None\n",
            "\tintegration_rate: 0.5\n",
            "\tintegrator_mode: True\n",
            "\tmax_passes: 1000\n",
            "\tnoise: 0.\n",
            "- output: 0.0 0.0 0.0 0.0 0.0 0.0 0.0 0.0 0.0 0.0 0.0 0.0 0.0 0.0 0.0 0.0\n",
            "\n",
            "'node4-2' mechanism executed:\n",
            "- input:  [array([0.87028754, 0.18367992, 0.51798851, 0.7528929 , 0.16362905,\n",
            "       0.76329286, 0.29791176, 0.13207838, 0.13267669, 0.4464644 ,\n",
            "       0.07828193, 0.4361543 , 0.01611826, 0.15170318, 0.21105647,\n",
            "       0.08243708])]\n",
            "- params:\n",
            "\tconvergence_criterion: 0.01\n",
            "\tconvergence_function: Distance Function-2\n",
            "\t\tintercept: 0\n",
            "\t\tslope: 1\n",
            "\tfunction: Linear Function-437\n",
            "\t\tintercept: 0\n",
            "\t\tslope: 1\n",
            "\tinitial_value: None\n",
            "\tintegration_rate: 0.5\n",
            "\tintegrator_mode: True\n",
            "\tmax_passes: 1000\n",
            "\tnoise: 0.\n",
            "- output: 0.0 0.0 0.0 0.0 0.0 0.0 0.0 0.0 0.0 0.0 0.0 0.0 0.0 0.0 0.0 0.0\n",
            "\n",
            "'node3-2' mechanism executed:\n",
            "- input:  [array([ 1.10580767,  1.34037949,  1.03355054,  1.12197182,  1.65546181,\n",
            "        0.98690943,  1.32006773,  0.69772384,  0.19198964,  0.20739331,\n",
            "        0.64379906, -0.44423544,  0.84273823, -0.25612904,  0.35680507,\n",
            "        0.38143899])]\n",
            "- params:\n",
            "\tconvergence_criterion: 0.01\n",
            "\tconvergence_function: Distance Function-2\n",
            "\t\tintercept: 0\n",
            "\t\tslope: 1\n",
            "\tfunction: Linear Function-427\n",
            "\t\tintercept: 0\n",
            "\t\tslope: 1\n",
            "\tinitial_value: None\n",
            "\tintegration_rate: 0.5\n",
            "\tintegrator_mode: True\n",
            "\tmax_passes: 1000\n",
            "\tnoise: 0.\n",
            "- output: 0.0 0.0 0.0 0.0 0.0 0.0 0.0 0.0 0.0 0.0 0.0 0.0 0.0 0.0 0.0 0.0\n",
            "\n",
            "'node4-2' mechanism executed:\n",
            "- input:  [array([ 1.40625835,  0.97342551,  1.06976486,  1.26889213,  0.17933511,\n",
            "        1.75507583,  0.54117428,  1.15579748,  0.04162364,  0.43450642,\n",
            "        0.0187956 ,  0.34306117, -0.29007952,  0.10130437, -0.1298143 ,\n",
            "        0.65120509])]\n",
            "- params:\n",
            "\tconvergence_criterion: 0.01\n",
            "\tconvergence_function: Distance Function-2\n",
            "\t\tintercept: 0\n",
            "\t\tslope: 1\n",
            "\tfunction: Linear Function-437\n",
            "\t\tintercept: 0\n",
            "\t\tslope: 1\n",
            "\tinitial_value: None\n",
            "\tintegration_rate: 0.5\n",
            "\tintegrator_mode: True\n",
            "\tmax_passes: 1000\n",
            "\tnoise: 0.\n",
            "- output: 0.0 0.0 0.0 0.0 0.0 0.0 0.0 0.0 0.0 0.0 0.0 0.0 0.0 0.0 0.0 0.0\n",
            "\n",
            "'node3-2' mechanism executed:\n",
            "- input:  [array([0.79764008, 0.24475543, 0.49771954, 0.43145003, 0.49509975,\n",
            "       0.73840971, 0.59916337, 0.68588049, 0.55854507, 0.22452922,\n",
            "       0.19453084, 0.41253647, 0.69380305, 0.99258254, 0.51594715,\n",
            "       0.14074369])]\n",
            "- params:\n",
            "\tconvergence_criterion: 0.01\n",
            "\tconvergence_function: Distance Function-2\n",
            "\t\tintercept: 0\n",
            "\t\tslope: 1\n",
            "\tfunction: Linear Function-427\n",
            "\t\tintercept: 0\n",
            "\t\tslope: 1\n",
            "\tinitial_value: None\n",
            "\tintegration_rate: 0.5\n",
            "\tintegrator_mode: True\n",
            "\tmax_passes: 1000\n",
            "\tnoise: 0.\n",
            "- output: 0.0 0.0 0.0 0.0 0.0 0.0 0.0 0.0 0.0 0.0 0.0 0.0 0.0 0.0 0.0 0.0\n",
            "\n",
            "'node4-2' mechanism executed:\n",
            "- input:  [array([0.50718726, 0.42591099, 0.10600426, 0.02765647, 0.12715759,\n",
            "       0.40457682, 0.20167975, 0.74707601, 0.18537556, 0.60229202,\n",
            "       0.40406538, 0.70823089, 0.42328124, 0.34892724, 0.91348388,\n",
            "       0.90456111])]\n",
            "- params:\n",
            "\tconvergence_criterion: 0.01\n",
            "\tconvergence_function: Distance Function-2\n",
            "\t\tintercept: 0\n",
            "\t\tslope: 1\n",
            "\tfunction: Linear Function-437\n",
            "\t\tintercept: 0\n",
            "\t\tslope: 1\n",
            "\tinitial_value: None\n",
            "\tintegration_rate: 0.5\n",
            "\tintegrator_mode: True\n",
            "\tmax_passes: 1000\n",
            "\tnoise: 0.\n",
            "- output: 0.0 0.0 0.0 0.0 0.0 0.0 0.0 0.0 0.0 0.0 0.0 0.0 0.0 0.0 0.0 0.0\n",
            "\n",
            "'node3-2' mechanism executed:\n",
            "- input:  [array([ 0.90262704,  0.15134758,  0.42127777,  0.4033529 ,  0.90123855,\n",
            "        0.76685664,  0.31450804, -0.04043371,  0.91825989,  0.26780232,\n",
            "        1.20052997,  1.13188102,  1.28607741,  1.55753429,  1.14304426,\n",
            "        0.41616569])]\n",
            "- params:\n",
            "\tconvergence_criterion: 0.01\n",
            "\tconvergence_function: Distance Function-2\n",
            "\t\tintercept: 0\n",
            "\t\tslope: 1\n",
            "\tfunction: Linear Function-427\n",
            "\t\tintercept: 0\n",
            "\t\tslope: 1\n",
            "\tinitial_value: None\n",
            "\tintegration_rate: 0.5\n",
            "\tintegrator_mode: True\n",
            "\tmax_passes: 1000\n",
            "\tnoise: 0.\n",
            "- output: 0.0 0.0 0.0 0.0 0.0 0.0 0.0 0.0 0.0 0.0 0.0 0.0 0.0 0.0 0.0 0.0\n",
            "\n",
            "'node4-2' mechanism executed:\n",
            "- input:  [array([0.53429479, 1.21826643, 0.54915784, 0.60574005, 0.54431968,\n",
            "       0.08150355, 0.64673747, 1.36918889, 0.05316986, 1.23036582,\n",
            "       0.48285226, 0.72369067, 0.77411714, 0.32765724, 0.97824904,\n",
            "       1.02982395])]\n",
            "- params:\n",
            "\tconvergence_criterion: 0.01\n",
            "\tconvergence_function: Distance Function-2\n",
            "\t\tintercept: 0\n",
            "\t\tslope: 1\n",
            "\tfunction: Linear Function-437\n",
            "\t\tintercept: 0\n",
            "\t\tslope: 1\n",
            "\tinitial_value: None\n",
            "\tintegration_rate: 0.5\n",
            "\tintegrator_mode: True\n",
            "\tmax_passes: 1000\n",
            "\tnoise: 0.\n",
            "- output: 0.0 0.0 0.0 0.0 0.0 0.0 0.0 0.0 0.0 0.0 0.0 0.0 0.0 0.0 0.0 0.0\n"
          ],
          "name": "stdout"
        }
      ]
    },
    {
      "metadata": {
        "id": "mwkSMcUteZF5",
        "colab_type": "text"
      },
      "cell_type": "markdown",
      "source": [
        "We can simplify the whole Necker Cube model above by using a single Recurrent Transfer Mechanism with connections to itself, instead of two processing mechanisms, and get approximately the same results.  In the previous model we specified a connecting matrix (Necker_Matrix) between the two nodes. A RecurrentTransferMechanism allows us to place this matrix inside of the mechanism, connecting its output at one step back to its input at the next step.      "
      ]
    },
    {
      "metadata": {
        "id": "7ikWX_IleZF6",
        "colab_type": "code",
        "outputId": "7a47e4d7-1686-4c27-9bbe-216e414de6a2",
        "colab": {}
      },
      "cell_type": "code",
      "source": [
        "Necker_Loop = pnl.RecurrentTransferMechanism(\n",
        "    size=16,\n",
        "    function=pnl.Linear,\n",
        "    matrix=Necker_Matrix,\n",
        "    #learning = False,\n",
        "    #smoothing_factor = 1,\n",
        "    noise = 0\n",
        ")\n",
        "\n",
        "processA = pnl.Process(pathway=[Necker_Loop])\n",
        "\n",
        "system2b = pnl.System(\n",
        "    processes=[processA]\n",
        ")\n",
        "                       \n",
        "    \n",
        "input_dict = {Necker_Loop: np.random.random((1,16))*.5\n",
        "             }\n",
        "\n",
        "system2b.run(input_dict, num_trials = 10)"
      ],
      "execution_count": 0,
      "outputs": [
        {
          "output_type": "execute_result",
          "data": {
            "text/plain": [
              "[[array([0.45743906, 0.09959535, 0.02910072, 0.08272449, 0.04480366,\n",
              "         0.18601199, 0.12377373, 0.23367596, 0.22966303, 0.24540836,\n",
              "         0.40439444, 0.24221099, 0.36299898, 0.39426253, 0.14116204,\n",
              "         0.28882468])],\n",
              " [array([ 0.22523649,  0.28133039, -0.47359459,  0.31851825,  0.1959327 ,\n",
              "         -0.33434033,  0.29023832, -0.09267153,  0.16540325,  1.07453766,\n",
              "          0.97497439,  0.99964415,  1.18614191,  0.77180793,  0.98109622,\n",
              "          0.56784477])],\n",
              " [array([ 0.92241389, -2.6321784 , -1.03076111, -2.25759345, -2.52925553,\n",
              "         -0.59010246, -2.73902516, -0.09732431,  3.03951379,  1.59493316,\n",
              "          4.40686165,  1.3133969 ,  1.47618952,  4.30471898,  1.87531248,\n",
              "          3.64105002])],\n",
              " [array([-13.0406159 ,  -3.78872065, -16.41341959,  -2.74974084,\n",
              "          -2.67258827, -16.32388506,  -5.34503912, -14.57429822,\n",
              "           2.76935485,  17.26085958,   7.2495592 ,  15.84482334,\n",
              "          16.40679282,   6.52090261,  17.97184301,   5.14837221])],\n",
              " [array([-14.29232041, -80.20004435, -26.3535183 , -75.63525589,\n",
              "         -76.70758117, -24.66214128, -83.13151516, -20.8304367 ,\n",
              "          75.82337056,  24.36266633,  84.30875954,  20.90897893,\n",
              "          20.1468052 ,  84.68152805,  29.7500743 ,  79.6608803 ])],\n",
              " [array([-383.73218348, -113.9337173 , -407.55523376, -103.21150878,\n",
              "         -100.03370513, -409.2161848 , -131.22247115, -394.56243685,\n",
              "           94.23275431,  405.45915522,  128.13315059,  391.30573316,\n",
              "          393.94394023,  123.97809092,  415.05536025,  112.75555651])],\n",
              " [array([ -505.18700077, -2011.32231714,  -604.6048977 , -1968.37859592,\n",
              "         -1975.35388193,  -592.96006342, -2041.32080218,  -559.74512211,\n",
              "          1958.4028586 ,   574.45683879,  2027.33511059,   541.78668996,\n",
              "           531.39681097,  2033.28508783,   627.45290235,  1989.71873202])],\n",
              " [array([ -9871.40307314,  -2851.56604412, -10075.66283569,  -2753.027676  ,\n",
              "          -2720.64100458, -10094.38116491,  -3012.09211421,  -9964.25706812,\n",
              "           2658.24400428,  10041.91309965,   2953.31062093,   9912.45610404,\n",
              "           9932.4774413 ,   2919.62094147,  10133.12169683,   2820.41547217])],\n",
              " [array([-13641.26529421, -50125.1736777 , -14523.27797547, -49736.15246056,\n",
              "         -49794.95138512, -14423.35503386, -50400.42068866, -14126.35806318,\n",
              "          49629.88245432,  14234.55306328,  50239.22096635,  13938.26766038,\n",
              "          13839.92542607,  50296.66883013,  14717.67242503,  49906.8582031 ])],\n",
              " [array([-248915.58499296,  -71056.90483476, -250740.1596589 ,\n",
              "          -70167.35392912,  -69870.78443974, -250913.69739977,\n",
              "          -72508.21214884, -249745.00726458,   69295.50640118,\n",
              "          250416.36501457,   71937.45349406,  249248.50875587,\n",
              "          249423.67525678,   71639.25524464,  251243.73053894,\n",
              "           70748.87046251])]]"
            ]
          },
          "metadata": {
            "tags": []
          },
          "execution_count": 17
        }
      ]
    },
    {
      "metadata": {
        "id": "thzLzFfoeZF9",
        "colab_type": "text"
      },
      "cell_type": "markdown",
      "source": [
        "### Necker Cube Notes \n",
        "\n",
        "The Necker Cube perception models presented here are very simple and have lots of room for improvement.  You can modify these models to make them better.  For example, over multiple trials the activations run away to very high and very low values.  This is unrealistic -- How might you fix this problem?  If you come up with a good solution you can get credit for it on the open ended BUILD section of the homework below.           "
      ]
    },
    {
      "metadata": {
        "id": "W7y7QTYNeZF9",
        "colab_type": "text"
      },
      "cell_type": "markdown",
      "source": [
        "# Homework\n",
        "\n",
        "### Problem 1: see \"Problem 1: Configure a System\" in context above. [Recreate the figure]\n",
        "\n",
        "### Problem 2: Duck/Rabbit Model\n",
        "**Create your own models of bistable perception for the Duck/Rabbit figure.**\n",
        "Requirements:\n",
        "Your models must include the following 6 features.  Ears, Bill, LeftFront, LeftBack, RightFront, RightBack. \n",
        "Your models must initialize with random activations and then dynamically arrive at stable interpretations. \n",
        "\n",
        "2a.  Create a model that always arrives at a coherent interpretation: ALL DUCK [Bill, LeftFront, RightBack] OR ALL RABBIT [Ears, RightFront, LeftBack]. \n",
        "\n",
        "2b.  Create a model that usually arrives at a coherent interpretation, but sometimes mixes up the features.  Run the model at least 100 times, and report percentages of the distinct interpretations.  Explain the difference between the stable and less stable model and what causes the flips when the interpretation changes.  \n",
        "\n",
        "### Problem 3: Duck/Rabbit Model with Spontaneous Reversals\n",
        "\n",
        "When looking at some bistable figures, after a certain amount of time your interpretation spontaneously flips to the opposite of what you previously saw.\n",
        "\n",
        "3a.  Create a model that arrives at a coherent interpretation (All Duck OR All Rabbit), but then gradually fatigues and spontaneously and reliably switches to the opposite interpretation.   \n",
        "\n",
        "\n",
        "### Problem 4: BUILD (B)eneficial (U)nlimmited (I)ndependent (L)earning (D)ocumented. \n",
        "\n",
        "For every homework assignment you have an opportunity to earn credit for related content & skills that you learn going beyond the lab notebooks.  This component is required, but you are in charge.  Sources for this portion of the assignment can include scientific results in published journal articles, notes from your efforts to modify models or build new models, the documentation on PsyNeuLink, Python tutorials, code tips from StackOverflow, or explanations on Wikipedia. \n",
        "\n",
        "This portion of the assignment is intended to let every individual student gain knowledge and skills (and course credit) working from your own current level of understanding.  If you are brand new to coding, you can use this as an opportunity to practice writing code and communicate what you learned.  If you are a proficient programmer, but relatively new to Psychology and/or Neuroscience, you can use this BUILD section to read more on relevant topics and concisely summarize what you learned.  If you are a proficient programmer and familiar with Psychology & Neuroscience, you can go above and beyond the assignment by creating a more sophisticated model or fitting a data set that interests you.    \n",
        "\n",
        "As you are working through the homework problems, simply make notes about interesting things you learned.  The ideal format for these notes is a reference guide for your future self to productively review, **written entirely in your own words**.  \n",
        "\n",
        "Here are some sample notes of the kind that could appear in the BUILD section of your homework.\n",
        "\n",
        "Lab1 notebook mentions the SoftMax function, so I looked it up to learn more.   \n",
        "**Softmax Function** Basically, this function takes a collection of numbers and emphasizes their relative magnitudes--especially making the largest number more pronounced.  This function could be useful if you have a competition and want to highlight the winner, giving it extra weight for a subsequent computation.  The way softmax works is by first treating each number as an exponent.  Assume we start with the numbers [2, 3, 4]. If our base is 2 [the actual softmax function uses the natural logarithm e as its base rather than 2 -- but base 2 is easier for me to double check the math in my head as I go.], then the first step changes the numbers to [2^2, 2^3, 2^4] or [4, 8, 16].  While 2 and 4 started out close together, the difference between 4 and 16 is much larger.  The next step is to add all the numbers together (4+8+16) = 28.  Then we divide all the numbers by the total of 28; [4/28, 9/28 16/28].  Now the sum of all the numbers in our collection is 1, and their relative magnitudes have been exagerated.  Having all the numbers sum to 1 might also be useful if we want to treat them as probabilities. \n",
        "\n",
        "The idea of bistable perception is fascinating, and it made me wonder about other examples.  A Google search brought me to a dynamic example called the **\"Spinning Dancer\"** that can be seen as spinning either clockwise or counterclockwise.  Strangely, this bistable figure is difficult to intentionally see as the opposite interpretation from whatever you saw first.  I got stuck on clockwise and my roommate got stuck on counterclockwise.  I wonder why this is?  Maybe it has to do with fatigue.  It might be harder to fatigue neurons looking at motion.  It would be interesting to design some experiments or come up with a model that could explain what is happening with the spinning dancer and why it is different than the Necker Cube and Duck-Rabbit.       \n",
        "\n",
        "While I was trying to get the first duck/rabbit model to work I realized I didn't really understand a bunch of the code, so I starting reading more about **numpy** functions and the **PsyNeuLink documentation**.  Here are some concepts I learned about that I think might be helpful later in the course (all the following concepts are defined in my own words, not copied/pasted)... \n",
        "[lots of examples here]\n",
        "\n",
        "\n",
        "\n"
      ]
    },
    {
      "metadata": {
        "id": "c15IzgfxeZF-",
        "colab_type": "text"
      },
      "cell_type": "markdown",
      "source": [
        "# How to Format & Submit Homework\n",
        "\n",
        "Your homework should be completed in a new Jupyter notebook that you create on the server (File -> New Notebook -> Python 3).  Be sure to include the import packages cells for numpy and PsyNeuLink.  Name the notebook with your last name and the assignment: LastName_Lab1_homework.ipynb.  It must be formatted clearly, like the lab notebooks, with text primarily in Markdown cells using headings and subheadings, and code primarily in code cells.  After you have completed everything, save the notebook, then select Kernel -> Restart & Run All.  Double check that your code cells have all executed and produced the intended outputs.  Then choose File -> Print Preview.  This will create a new version of your Jupyter notebook as a static web page formatted in html.  Save this page as a pdf:  Use a Google search \"how to convert a webpage from [browser] to pdf\" [replace \"browser\" with Chrome, Explorer, Safari, Firefox or whatever browser you use, and follow the instructions you find].  Finally, name this document LastName_Lab1_homework.pdf and submit the pdf on Blackboard.  \n",
        "\n",
        "Please note the importance of formatting your homework to appear clear, well-labeled and easy to read.  Make judgment calls about how much output is too much to include (e.g. don't include output longer than 1 page from a single executed cell).  There are ways to adjust the code to only display what is necessary.  Use headings to highlight the different questions.  Use the internet to help you, e.g. Google search: How to get italics in Markdown.  \n",
        "\n",
        "\n",
        "# Homework Grading\n",
        "\n",
        "Each assignment is graded out of 10 points.  \n",
        "**3 Completeness**: Did you answer all the questions thoughtfully?  If you are unable to arrive at a satisfactory answer, you should still include all your attempts with annotation explaining what you did and what problems you encountered.   \n",
        "**3 Clarity**: Your homework should be well organized and easy to read.  Use the Markdown formatting options for headings and subheadings.  It is important to communicate effectively.         \n",
        "**3 Creativity**: BUILD section.  Problem solving in real life is typically open-ended and the solutions are not known by anyone in advance (otherwise you would just look them up.)  We want you to creatively engage with the course material, apply the concepts you learn to new topics, and to build your own new models.      \n",
        "**1 Collaboration**: You must attend lab and participate.  Your homework should include acknowledgments indicating who you collaborated with on the assignment.   \n",
        "\n",
        "\n",
        "For the completeness, clarity, and creativity, the rubric is approximately as follows:\n",
        "(1) Sub-par, (2)Respectable, (3)Impressive.  \n",
        "\n",
        "\n",
        "\n",
        "# Collaboration Policy & Individual Work\n",
        "\n",
        "All prose in your homework submissions must be written by you alone, unless the assignment explicitly calls for a group submission.  \n",
        "\n",
        "You are strongly encouraged to collaborate with classmates on the homework assignments, and you are allowed to share code as you collaborate.  However, you should never submit code that you do not understand.  If a classmate, tutor, or lab instructor helps you with writing code, it is up to you to understand and annotate that code (using #comments or Markdown cells) in your own words explaining how the code works. \n",
        "\n",
        "When you collaborate, always include an author note at the start of the assignment that acknowledges your collaborators.  \n"
      ]
    },
    {
      "metadata": {
        "id": "svVjOsIBeZF_",
        "colab_type": "code",
        "colab": {}
      },
      "cell_type": "code",
      "source": [
        ""
      ],
      "execution_count": 0,
      "outputs": []
    }
  ]
}